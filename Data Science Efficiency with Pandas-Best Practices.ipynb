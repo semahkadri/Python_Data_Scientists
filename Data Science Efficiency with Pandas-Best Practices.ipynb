{
  "cells": [
    {
      "cell_type": "markdown",
      "metadata": {
        "id": "XHY4ikO-vcpx"
      },
      "source": [
        "# Enhancing Data Science Efficiency with Pandas: Best Practices\n",
        "\n"
      ]
    },
    {
      "cell_type": "markdown",
      "metadata": {
        "id": "WSeRrt2fviN4"
      },
      "source": [
        "As a data scientist, optimizing the use of tools and techniques is crucial to extract valuable insights from data. The Pandas library stands as a powerful resource for data manipulation, analysis, and visualization, playing a vital role in every data scientist's toolkit.\n",
        "\n",
        "Yet, using Pandas efficiently can be challenging, leading to potential wasted time and effort. Fortunately, adopting specific best practices can significantly enhance a data scientist's Pandas experience.\n",
        "\n",
        "By embracing vectorized operations and leveraging built-in functions, data scientists can expedite and improve the accuracy of data analysis and visualization. Understanding and implementing these best practices will empower data scientists to boost productivity, make better decisions faster, and derive more meaningful insights from their data exploration."
      ]
    },
    {
      "cell_type": "markdown",
      "metadata": {
        "id": "8kmyVUcBvwRi"
      },
      "source": [
        "## Table of Content:\n",
        "1. Why do We need Efficient Coding?\n",
        "2. Selecting & Replacing Values Effectively\n",
        "  \n",
        "  2.1. Selecting Rows & Columns Efficiently using .iloc[] & .loc[] \n",
        " \n",
        " 2.2. Replacing Values in a DataFrame Effectively\n",
        " \n",
        " 2.3. Summary of best practices for selecting and replacing values\n",
        "3. Iterate Effectively Through Pandas DataFrame\n",
        "\n",
        " 3.1. Looping effectively using the .iterrows()\n",
        "\n",
        " 3.2. Looping effectively using .apply()\n",
        "\n",
        " 3.3. Looping effectively using vectorization\n",
        "\n",
        " 3.4. Summary of best practices for looping through DataFrame\n",
        "4. Transforming Data Effectively With .groupby()\n",
        "\n",
        " 4.1. Common functions used with .groupby()\n",
        "\n",
        " 4.2. Missing value imputation using .groupby() & .transform()\n",
        "\n",
        " 4.3. Data filtration using the .groupby() & .filter()\n",
        "5. Summary of Best Practices\n",
        "\n",
        "\n",
        "\n"
      ]
    },
    {
      "cell_type": "markdown",
      "metadata": {
        "id": "f2CcELx3w2jo"
      },
      "source": [
        "Throughout this article, we will use three datasets:\n",
        "\n",
        "* [Poker card game dataset](https://github.com/youssefHosni/Advanced-Python-for-Data-Scientists/blob/main/Datasets/poker_hand.csv)\n",
        "* [Popular baby names](https://github.com/youssefHosni/Advanced-Python-for-Data-Scientists/blob/main/Datasets/Popular_Baby_Names.csv)\n",
        "* [Restaurant dataset](https://github.com/youssefHosni/Advanced-Python-for-Data-Scientists/blob/main/Datasets/restaurant_data.csv)\n",
        "\n",
        "\n"
      ]
    },
    {
      "cell_type": "markdown",
      "metadata": {
        "id": "OdSTEdH5xix2"
      },
      "source": [
        "Lets first start with importing the important libraries we will be using throughout this notebook"
      ]
    },
    {
      "cell_type": "code",
      "execution_count": 1,
      "metadata": {
        "id": "C3idtCWZSe2l"
      },
      "outputs": [],
      "source": [
        "import pandas as pd\n",
        "import time\n",
        "import numpy as np"
      ]
    },
    {
      "cell_type": "markdown",
      "metadata": {
        "id": "_rIvc54NyMlj"
      },
      "source": [
        "The first dataset is the Poker card game dataset which is shown below:\n",
        "\n"
      ]
    },
    {
      "cell_type": "code",
      "execution_count": 2,
      "metadata": {
        "colab": {
          "base_uri": "https://localhost:8080/",
          "height": 206
        },
        "id": "WdjH7SI3Sg6k",
        "outputId": "ec0cb24b-99c2-4c1a-eed0-720153fced00"
      },
      "outputs": [
        {
          "data": {
            "text/html": [
              "\n",
              "  <div id=\"df-58581144-3024-493f-8dca-7222eae0c1fd\">\n",
              "    <div class=\"colab-df-container\">\n",
              "      <div>\n",
              "<style scoped>\n",
              "    .dataframe tbody tr th:only-of-type {\n",
              "        vertical-align: middle;\n",
              "    }\n",
              "\n",
              "    .dataframe tbody tr th {\n",
              "        vertical-align: top;\n",
              "    }\n",
              "\n",
              "    .dataframe thead th {\n",
              "        text-align: right;\n",
              "    }\n",
              "</style>\n",
              "<table border=\"1\" class=\"dataframe\">\n",
              "  <thead>\n",
              "    <tr style=\"text-align: right;\">\n",
              "      <th></th>\n",
              "      <th>S1</th>\n",
              "      <th>R1</th>\n",
              "      <th>S2</th>\n",
              "      <th>R2</th>\n",
              "      <th>S3</th>\n",
              "      <th>R3</th>\n",
              "      <th>S4</th>\n",
              "      <th>R4</th>\n",
              "      <th>S5</th>\n",
              "      <th>R5</th>\n",
              "      <th>Class</th>\n",
              "    </tr>\n",
              "  </thead>\n",
              "  <tbody>\n",
              "    <tr>\n",
              "      <th>0</th>\n",
              "      <td>1</td>\n",
              "      <td>10</td>\n",
              "      <td>1</td>\n",
              "      <td>11</td>\n",
              "      <td>1</td>\n",
              "      <td>13</td>\n",
              "      <td>1</td>\n",
              "      <td>12</td>\n",
              "      <td>1</td>\n",
              "      <td>1</td>\n",
              "      <td>9</td>\n",
              "    </tr>\n",
              "    <tr>\n",
              "      <th>1</th>\n",
              "      <td>2</td>\n",
              "      <td>11</td>\n",
              "      <td>2</td>\n",
              "      <td>13</td>\n",
              "      <td>2</td>\n",
              "      <td>10</td>\n",
              "      <td>2</td>\n",
              "      <td>12</td>\n",
              "      <td>2</td>\n",
              "      <td>1</td>\n",
              "      <td>9</td>\n",
              "    </tr>\n",
              "    <tr>\n",
              "      <th>2</th>\n",
              "      <td>3</td>\n",
              "      <td>12</td>\n",
              "      <td>3</td>\n",
              "      <td>11</td>\n",
              "      <td>3</td>\n",
              "      <td>13</td>\n",
              "      <td>3</td>\n",
              "      <td>10</td>\n",
              "      <td>3</td>\n",
              "      <td>1</td>\n",
              "      <td>9</td>\n",
              "    </tr>\n",
              "    <tr>\n",
              "      <th>3</th>\n",
              "      <td>4</td>\n",
              "      <td>10</td>\n",
              "      <td>4</td>\n",
              "      <td>11</td>\n",
              "      <td>4</td>\n",
              "      <td>1</td>\n",
              "      <td>4</td>\n",
              "      <td>13</td>\n",
              "      <td>4</td>\n",
              "      <td>12</td>\n",
              "      <td>9</td>\n",
              "    </tr>\n",
              "    <tr>\n",
              "      <th>4</th>\n",
              "      <td>4</td>\n",
              "      <td>1</td>\n",
              "      <td>4</td>\n",
              "      <td>13</td>\n",
              "      <td>4</td>\n",
              "      <td>12</td>\n",
              "      <td>4</td>\n",
              "      <td>11</td>\n",
              "      <td>4</td>\n",
              "      <td>10</td>\n",
              "      <td>9</td>\n",
              "    </tr>\n",
              "  </tbody>\n",
              "</table>\n",
              "</div>\n",
              "      <button class=\"colab-df-convert\" onclick=\"convertToInteractive('df-58581144-3024-493f-8dca-7222eae0c1fd')\"\n",
              "              title=\"Convert this dataframe to an interactive table.\"\n",
              "              style=\"display:none;\">\n",
              "        \n",
              "  <svg xmlns=\"http://www.w3.org/2000/svg\" height=\"24px\"viewBox=\"0 0 24 24\"\n",
              "       width=\"24px\">\n",
              "    <path d=\"M0 0h24v24H0V0z\" fill=\"none\"/>\n",
              "    <path d=\"M18.56 5.44l.94 2.06.94-2.06 2.06-.94-2.06-.94-.94-2.06-.94 2.06-2.06.94zm-11 1L8.5 8.5l.94-2.06 2.06-.94-2.06-.94L8.5 2.5l-.94 2.06-2.06.94zm10 10l.94 2.06.94-2.06 2.06-.94-2.06-.94-.94-2.06-.94 2.06-2.06.94z\"/><path d=\"M17.41 7.96l-1.37-1.37c-.4-.4-.92-.59-1.43-.59-.52 0-1.04.2-1.43.59L10.3 9.45l-7.72 7.72c-.78.78-.78 2.05 0 2.83L4 21.41c.39.39.9.59 1.41.59.51 0 1.02-.2 1.41-.59l7.78-7.78 2.81-2.81c.8-.78.8-2.07 0-2.86zM5.41 20L4 18.59l7.72-7.72 1.47 1.35L5.41 20z\"/>\n",
              "  </svg>\n",
              "      </button>\n",
              "      \n",
              "  <style>\n",
              "    .colab-df-container {\n",
              "      display:flex;\n",
              "      flex-wrap:wrap;\n",
              "      gap: 12px;\n",
              "    }\n",
              "\n",
              "    .colab-df-convert {\n",
              "      background-color: #E8F0FE;\n",
              "      border: none;\n",
              "      border-radius: 50%;\n",
              "      cursor: pointer;\n",
              "      display: none;\n",
              "      fill: #1967D2;\n",
              "      height: 32px;\n",
              "      padding: 0 0 0 0;\n",
              "      width: 32px;\n",
              "    }\n",
              "\n",
              "    .colab-df-convert:hover {\n",
              "      background-color: #E2EBFA;\n",
              "      box-shadow: 0px 1px 2px rgba(60, 64, 67, 0.3), 0px 1px 3px 1px rgba(60, 64, 67, 0.15);\n",
              "      fill: #174EA6;\n",
              "    }\n",
              "\n",
              "    [theme=dark] .colab-df-convert {\n",
              "      background-color: #3B4455;\n",
              "      fill: #D2E3FC;\n",
              "    }\n",
              "\n",
              "    [theme=dark] .colab-df-convert:hover {\n",
              "      background-color: #434B5C;\n",
              "      box-shadow: 0px 1px 3px 1px rgba(0, 0, 0, 0.15);\n",
              "      filter: drop-shadow(0px 1px 2px rgba(0, 0, 0, 0.3));\n",
              "      fill: #FFFFFF;\n",
              "    }\n",
              "  </style>\n",
              "\n",
              "      <script>\n",
              "        const buttonEl =\n",
              "          document.querySelector('#df-58581144-3024-493f-8dca-7222eae0c1fd button.colab-df-convert');\n",
              "        buttonEl.style.display =\n",
              "          google.colab.kernel.accessAllowed ? 'block' : 'none';\n",
              "\n",
              "        async function convertToInteractive(key) {\n",
              "          const element = document.querySelector('#df-58581144-3024-493f-8dca-7222eae0c1fd');\n",
              "          const dataTable =\n",
              "            await google.colab.kernel.invokeFunction('convertToInteractive',\n",
              "                                                     [key], {});\n",
              "          if (!dataTable) return;\n",
              "\n",
              "          const docLinkHtml = 'Like what you see? Visit the ' +\n",
              "            '<a target=\"_blank\" href=https://colab.research.google.com/notebooks/data_table.ipynb>data table notebook</a>'\n",
              "            + ' to learn more about interactive tables.';\n",
              "          element.innerHTML = '';\n",
              "          dataTable['output_type'] = 'display_data';\n",
              "          await google.colab.output.renderOutput(dataTable, element);\n",
              "          const docLink = document.createElement('div');\n",
              "          docLink.innerHTML = docLinkHtml;\n",
              "          element.appendChild(docLink);\n",
              "        }\n",
              "      </script>\n",
              "    </div>\n",
              "  </div>\n",
              "  "
            ],
            "text/plain": [
              "   S1  R1  S2  R2  S3  R3  S4  R4  S5  R5  Class\n",
              "0   1  10   1  11   1  13   1  12   1   1      9\n",
              "1   2  11   2  13   2  10   2  12   2   1      9\n",
              "2   3  12   3  11   3  13   3  10   3   1      9\n",
              "3   4  10   4  11   4   1   4  13   4  12      9\n",
              "4   4   1   4  13   4  12   4  11   4  10      9"
            ]
          },
          "execution_count": 2,
          "metadata": {},
          "output_type": "execute_result"
        }
      ],
      "source": [
        "poker_data = pd.read_csv('poker_hand.csv')\n",
        "poker_data.head()"
      ]
    },
    {
      "cell_type": "markdown",
      "metadata": {
        "id": "S9vOeRXUyRMo"
      },
      "source": [
        "In each poker round, each player has five cards in hand, each one characterized by its symbol, which can be either hearts, diamonds, clubs, or spades, and its rank, which ranges from 1 to 13. The dataset consists of every possible combination of five cards one person can possess.\n",
        "\n",
        "* Sn: symbol of the n-th card where: 1 (Hearts), 2 (Diamonds), 3 (Clubs), 4 (Spades)\n",
        "* Rn: rank of the n-th card where: 1 (Ace), 2–10, 11 (Jack), 12 (Queen), 13 (King)"
      ]
    },
    {
      "cell_type": "markdown",
      "metadata": {
        "id": "VQd0CRXAyXyY"
      },
      "source": [
        "The second dataset we will work with is the Popular baby names dataset which includes the most popular names that were given to newborns between 2011 and 2016. The dataset is loaded and shown below:\n",
        "\n"
      ]
    },
    {
      "cell_type": "code",
      "execution_count": null,
      "metadata": {
        "colab": {
          "base_uri": "https://localhost:8080/",
          "height": 206
        },
        "id": "3esr_TlHTCfF",
        "outputId": "11ebfda7-a07d-4dca-d19e-8f60020e26f3"
      },
      "outputs": [
        {
          "data": {
            "text/html": [
              "\n",
              "  <div id=\"df-6eef2f06-b0d4-43e5-be5a-8c7a2376d125\">\n",
              "    <div class=\"colab-df-container\">\n",
              "      <div>\n",
              "<style scoped>\n",
              "    .dataframe tbody tr th:only-of-type {\n",
              "        vertical-align: middle;\n",
              "    }\n",
              "\n",
              "    .dataframe tbody tr th {\n",
              "        vertical-align: top;\n",
              "    }\n",
              "\n",
              "    .dataframe thead th {\n",
              "        text-align: right;\n",
              "    }\n",
              "</style>\n",
              "<table border=\"1\" class=\"dataframe\">\n",
              "  <thead>\n",
              "    <tr style=\"text-align: right;\">\n",
              "      <th></th>\n",
              "      <th>Year of Birth</th>\n",
              "      <th>Gender</th>\n",
              "      <th>Ethnicity</th>\n",
              "      <th>Child's First Name</th>\n",
              "      <th>Count</th>\n",
              "      <th>Rank</th>\n",
              "    </tr>\n",
              "  </thead>\n",
              "  <tbody>\n",
              "    <tr>\n",
              "      <th>0</th>\n",
              "      <td>2011</td>\n",
              "      <td>FEMALE</td>\n",
              "      <td>ASIAN AND PACIFIC ISLANDER</td>\n",
              "      <td>SOPHIA</td>\n",
              "      <td>119</td>\n",
              "      <td>1</td>\n",
              "    </tr>\n",
              "    <tr>\n",
              "      <th>1</th>\n",
              "      <td>2011</td>\n",
              "      <td>FEMALE</td>\n",
              "      <td>ASIAN AND PACIFIC ISLANDER</td>\n",
              "      <td>CHLOE</td>\n",
              "      <td>106</td>\n",
              "      <td>2</td>\n",
              "    </tr>\n",
              "    <tr>\n",
              "      <th>2</th>\n",
              "      <td>2011</td>\n",
              "      <td>FEMALE</td>\n",
              "      <td>ASIAN AND PACIFIC ISLANDER</td>\n",
              "      <td>EMILY</td>\n",
              "      <td>93</td>\n",
              "      <td>3</td>\n",
              "    </tr>\n",
              "    <tr>\n",
              "      <th>3</th>\n",
              "      <td>2011</td>\n",
              "      <td>FEMALE</td>\n",
              "      <td>ASIAN AND PACIFIC ISLANDER</td>\n",
              "      <td>OLIVIA</td>\n",
              "      <td>89</td>\n",
              "      <td>4</td>\n",
              "    </tr>\n",
              "    <tr>\n",
              "      <th>4</th>\n",
              "      <td>2011</td>\n",
              "      <td>FEMALE</td>\n",
              "      <td>ASIAN AND PACIFIC ISLANDER</td>\n",
              "      <td>EMMA</td>\n",
              "      <td>75</td>\n",
              "      <td>5</td>\n",
              "    </tr>\n",
              "  </tbody>\n",
              "</table>\n",
              "</div>\n",
              "      <button class=\"colab-df-convert\" onclick=\"convertToInteractive('df-6eef2f06-b0d4-43e5-be5a-8c7a2376d125')\"\n",
              "              title=\"Convert this dataframe to an interactive table.\"\n",
              "              style=\"display:none;\">\n",
              "        \n",
              "  <svg xmlns=\"http://www.w3.org/2000/svg\" height=\"24px\"viewBox=\"0 0 24 24\"\n",
              "       width=\"24px\">\n",
              "    <path d=\"M0 0h24v24H0V0z\" fill=\"none\"/>\n",
              "    <path d=\"M18.56 5.44l.94 2.06.94-2.06 2.06-.94-2.06-.94-.94-2.06-.94 2.06-2.06.94zm-11 1L8.5 8.5l.94-2.06 2.06-.94-2.06-.94L8.5 2.5l-.94 2.06-2.06.94zm10 10l.94 2.06.94-2.06 2.06-.94-2.06-.94-.94-2.06-.94 2.06-2.06.94z\"/><path d=\"M17.41 7.96l-1.37-1.37c-.4-.4-.92-.59-1.43-.59-.52 0-1.04.2-1.43.59L10.3 9.45l-7.72 7.72c-.78.78-.78 2.05 0 2.83L4 21.41c.39.39.9.59 1.41.59.51 0 1.02-.2 1.41-.59l7.78-7.78 2.81-2.81c.8-.78.8-2.07 0-2.86zM5.41 20L4 18.59l7.72-7.72 1.47 1.35L5.41 20z\"/>\n",
              "  </svg>\n",
              "      </button>\n",
              "      \n",
              "  <style>\n",
              "    .colab-df-container {\n",
              "      display:flex;\n",
              "      flex-wrap:wrap;\n",
              "      gap: 12px;\n",
              "    }\n",
              "\n",
              "    .colab-df-convert {\n",
              "      background-color: #E8F0FE;\n",
              "      border: none;\n",
              "      border-radius: 50%;\n",
              "      cursor: pointer;\n",
              "      display: none;\n",
              "      fill: #1967D2;\n",
              "      height: 32px;\n",
              "      padding: 0 0 0 0;\n",
              "      width: 32px;\n",
              "    }\n",
              "\n",
              "    .colab-df-convert:hover {\n",
              "      background-color: #E2EBFA;\n",
              "      box-shadow: 0px 1px 2px rgba(60, 64, 67, 0.3), 0px 1px 3px 1px rgba(60, 64, 67, 0.15);\n",
              "      fill: #174EA6;\n",
              "    }\n",
              "\n",
              "    [theme=dark] .colab-df-convert {\n",
              "      background-color: #3B4455;\n",
              "      fill: #D2E3FC;\n",
              "    }\n",
              "\n",
              "    [theme=dark] .colab-df-convert:hover {\n",
              "      background-color: #434B5C;\n",
              "      box-shadow: 0px 1px 3px 1px rgba(0, 0, 0, 0.15);\n",
              "      filter: drop-shadow(0px 1px 2px rgba(0, 0, 0, 0.3));\n",
              "      fill: #FFFFFF;\n",
              "    }\n",
              "  </style>\n",
              "\n",
              "      <script>\n",
              "        const buttonEl =\n",
              "          document.querySelector('#df-6eef2f06-b0d4-43e5-be5a-8c7a2376d125 button.colab-df-convert');\n",
              "        buttonEl.style.display =\n",
              "          google.colab.kernel.accessAllowed ? 'block' : 'none';\n",
              "\n",
              "        async function convertToInteractive(key) {\n",
              "          const element = document.querySelector('#df-6eef2f06-b0d4-43e5-be5a-8c7a2376d125');\n",
              "          const dataTable =\n",
              "            await google.colab.kernel.invokeFunction('convertToInteractive',\n",
              "                                                     [key], {});\n",
              "          if (!dataTable) return;\n",
              "\n",
              "          const docLinkHtml = 'Like what you see? Visit the ' +\n",
              "            '<a target=\"_blank\" href=https://colab.research.google.com/notebooks/data_table.ipynb>data table notebook</a>'\n",
              "            + ' to learn more about interactive tables.';\n",
              "          element.innerHTML = '';\n",
              "          dataTable['output_type'] = 'display_data';\n",
              "          await google.colab.output.renderOutput(dataTable, element);\n",
              "          const docLink = document.createElement('div');\n",
              "          docLink.innerHTML = docLinkHtml;\n",
              "          element.appendChild(docLink);\n",
              "        }\n",
              "      </script>\n",
              "    </div>\n",
              "  </div>\n",
              "  "
            ],
            "text/plain": [
              "   Year of Birth  Gender                   Ethnicity Child's First Name  \\\n",
              "0           2011  FEMALE  ASIAN AND PACIFIC ISLANDER             SOPHIA   \n",
              "1           2011  FEMALE  ASIAN AND PACIFIC ISLANDER              CHLOE   \n",
              "2           2011  FEMALE  ASIAN AND PACIFIC ISLANDER              EMILY   \n",
              "3           2011  FEMALE  ASIAN AND PACIFIC ISLANDER             OLIVIA   \n",
              "4           2011  FEMALE  ASIAN AND PACIFIC ISLANDER               EMMA   \n",
              "\n",
              "   Count  Rank  \n",
              "0    119     1  \n",
              "1    106     2  \n",
              "2     93     3  \n",
              "3     89     4  \n",
              "4     75     5  "
            ]
          },
          "execution_count": 4,
          "metadata": {},
          "output_type": "execute_result"
        }
      ],
      "source": [
        "names = pd.read_csv('Popular_Baby_Names.csv')\n",
        "names.head()"
      ]
    },
    {
      "cell_type": "markdown",
      "metadata": {
        "id": "WEpIfMzGybwl"
      },
      "source": [
        "The dataset includes, among other information, the most popular names in the US by year, gender, and ethnicity. For example, the name Chloe was ranked second in popularity among all female newborns of Asian and Pacific Islander ethnicity in 2011.\n",
        "\n"
      ]
    },
    {
      "cell_type": "markdown",
      "metadata": {
        "id": "dYRyKdkqydwY"
      },
      "source": [
        "The third dataset we will use is the Restaurant dataset. This dataset is a collection of people having dinner at a restaurant. The dataset is loaded and shown below:\n",
        "\n"
      ]
    },
    {
      "cell_type": "code",
      "execution_count": null,
      "metadata": {
        "colab": {
          "base_uri": "https://localhost:8080/",
          "height": 206
        },
        "id": "c3pQgooSThHC",
        "outputId": "20968129-27fa-4003-b488-1528bd08dd61"
      },
      "outputs": [
        {
          "data": {
            "text/html": [
              "\n",
              "  <div id=\"df-fc3626d7-345f-45b8-8a79-1e40b1cf5eaf\">\n",
              "    <div class=\"colab-df-container\">\n",
              "      <div>\n",
              "<style scoped>\n",
              "    .dataframe tbody tr th:only-of-type {\n",
              "        vertical-align: middle;\n",
              "    }\n",
              "\n",
              "    .dataframe tbody tr th {\n",
              "        vertical-align: top;\n",
              "    }\n",
              "\n",
              "    .dataframe thead th {\n",
              "        text-align: right;\n",
              "    }\n",
              "</style>\n",
              "<table border=\"1\" class=\"dataframe\">\n",
              "  <thead>\n",
              "    <tr style=\"text-align: right;\">\n",
              "      <th></th>\n",
              "      <th>total_bill</th>\n",
              "      <th>tip</th>\n",
              "      <th>sex</th>\n",
              "      <th>smoker</th>\n",
              "      <th>day</th>\n",
              "      <th>time</th>\n",
              "      <th>size</th>\n",
              "    </tr>\n",
              "  </thead>\n",
              "  <tbody>\n",
              "    <tr>\n",
              "      <th>0</th>\n",
              "      <td>16.99</td>\n",
              "      <td>1.01</td>\n",
              "      <td>Female</td>\n",
              "      <td>No</td>\n",
              "      <td>Sun</td>\n",
              "      <td>Dinner</td>\n",
              "      <td>2</td>\n",
              "    </tr>\n",
              "    <tr>\n",
              "      <th>1</th>\n",
              "      <td>10.34</td>\n",
              "      <td>1.66</td>\n",
              "      <td>Male</td>\n",
              "      <td>No</td>\n",
              "      <td>Sun</td>\n",
              "      <td>Dinner</td>\n",
              "      <td>3</td>\n",
              "    </tr>\n",
              "    <tr>\n",
              "      <th>2</th>\n",
              "      <td>21.01</td>\n",
              "      <td>3.50</td>\n",
              "      <td>Male</td>\n",
              "      <td>No</td>\n",
              "      <td>Sun</td>\n",
              "      <td>Dinner</td>\n",
              "      <td>3</td>\n",
              "    </tr>\n",
              "    <tr>\n",
              "      <th>3</th>\n",
              "      <td>23.68</td>\n",
              "      <td>3.31</td>\n",
              "      <td>Male</td>\n",
              "      <td>No</td>\n",
              "      <td>Sun</td>\n",
              "      <td>Dinner</td>\n",
              "      <td>2</td>\n",
              "    </tr>\n",
              "    <tr>\n",
              "      <th>4</th>\n",
              "      <td>24.59</td>\n",
              "      <td>3.61</td>\n",
              "      <td>Female</td>\n",
              "      <td>No</td>\n",
              "      <td>Sun</td>\n",
              "      <td>Dinner</td>\n",
              "      <td>4</td>\n",
              "    </tr>\n",
              "  </tbody>\n",
              "</table>\n",
              "</div>\n",
              "      <button class=\"colab-df-convert\" onclick=\"convertToInteractive('df-fc3626d7-345f-45b8-8a79-1e40b1cf5eaf')\"\n",
              "              title=\"Convert this dataframe to an interactive table.\"\n",
              "              style=\"display:none;\">\n",
              "        \n",
              "  <svg xmlns=\"http://www.w3.org/2000/svg\" height=\"24px\"viewBox=\"0 0 24 24\"\n",
              "       width=\"24px\">\n",
              "    <path d=\"M0 0h24v24H0V0z\" fill=\"none\"/>\n",
              "    <path d=\"M18.56 5.44l.94 2.06.94-2.06 2.06-.94-2.06-.94-.94-2.06-.94 2.06-2.06.94zm-11 1L8.5 8.5l.94-2.06 2.06-.94-2.06-.94L8.5 2.5l-.94 2.06-2.06.94zm10 10l.94 2.06.94-2.06 2.06-.94-2.06-.94-.94-2.06-.94 2.06-2.06.94z\"/><path d=\"M17.41 7.96l-1.37-1.37c-.4-.4-.92-.59-1.43-.59-.52 0-1.04.2-1.43.59L10.3 9.45l-7.72 7.72c-.78.78-.78 2.05 0 2.83L4 21.41c.39.39.9.59 1.41.59.51 0 1.02-.2 1.41-.59l7.78-7.78 2.81-2.81c.8-.78.8-2.07 0-2.86zM5.41 20L4 18.59l7.72-7.72 1.47 1.35L5.41 20z\"/>\n",
              "  </svg>\n",
              "      </button>\n",
              "      \n",
              "  <style>\n",
              "    .colab-df-container {\n",
              "      display:flex;\n",
              "      flex-wrap:wrap;\n",
              "      gap: 12px;\n",
              "    }\n",
              "\n",
              "    .colab-df-convert {\n",
              "      background-color: #E8F0FE;\n",
              "      border: none;\n",
              "      border-radius: 50%;\n",
              "      cursor: pointer;\n",
              "      display: none;\n",
              "      fill: #1967D2;\n",
              "      height: 32px;\n",
              "      padding: 0 0 0 0;\n",
              "      width: 32px;\n",
              "    }\n",
              "\n",
              "    .colab-df-convert:hover {\n",
              "      background-color: #E2EBFA;\n",
              "      box-shadow: 0px 1px 2px rgba(60, 64, 67, 0.3), 0px 1px 3px 1px rgba(60, 64, 67, 0.15);\n",
              "      fill: #174EA6;\n",
              "    }\n",
              "\n",
              "    [theme=dark] .colab-df-convert {\n",
              "      background-color: #3B4455;\n",
              "      fill: #D2E3FC;\n",
              "    }\n",
              "\n",
              "    [theme=dark] .colab-df-convert:hover {\n",
              "      background-color: #434B5C;\n",
              "      box-shadow: 0px 1px 3px 1px rgba(0, 0, 0, 0.15);\n",
              "      filter: drop-shadow(0px 1px 2px rgba(0, 0, 0, 0.3));\n",
              "      fill: #FFFFFF;\n",
              "    }\n",
              "  </style>\n",
              "\n",
              "      <script>\n",
              "        const buttonEl =\n",
              "          document.querySelector('#df-fc3626d7-345f-45b8-8a79-1e40b1cf5eaf button.colab-df-convert');\n",
              "        buttonEl.style.display =\n",
              "          google.colab.kernel.accessAllowed ? 'block' : 'none';\n",
              "\n",
              "        async function convertToInteractive(key) {\n",
              "          const element = document.querySelector('#df-fc3626d7-345f-45b8-8a79-1e40b1cf5eaf');\n",
              "          const dataTable =\n",
              "            await google.colab.kernel.invokeFunction('convertToInteractive',\n",
              "                                                     [key], {});\n",
              "          if (!dataTable) return;\n",
              "\n",
              "          const docLinkHtml = 'Like what you see? Visit the ' +\n",
              "            '<a target=\"_blank\" href=https://colab.research.google.com/notebooks/data_table.ipynb>data table notebook</a>'\n",
              "            + ' to learn more about interactive tables.';\n",
              "          element.innerHTML = '';\n",
              "          dataTable['output_type'] = 'display_data';\n",
              "          await google.colab.output.renderOutput(dataTable, element);\n",
              "          const docLink = document.createElement('div');\n",
              "          docLink.innerHTML = docLinkHtml;\n",
              "          element.appendChild(docLink);\n",
              "        }\n",
              "      </script>\n",
              "    </div>\n",
              "  </div>\n",
              "  "
            ],
            "text/plain": [
              "   total_bill   tip     sex smoker  day    time  size\n",
              "0       16.99  1.01  Female     No  Sun  Dinner     2\n",
              "1       10.34  1.66    Male     No  Sun  Dinner     3\n",
              "2       21.01  3.50    Male     No  Sun  Dinner     3\n",
              "3       23.68  3.31    Male     No  Sun  Dinner     2\n",
              "4       24.59  3.61  Female     No  Sun  Dinner     4"
            ]
          },
          "execution_count": 6,
          "metadata": {},
          "output_type": "execute_result"
        }
      ],
      "source": [
        "restaurant = pd.read_csv('restaurant_data.csv')\n",
        "restaurant.head()"
      ]
    },
    {
      "cell_type": "markdown",
      "metadata": {
        "id": "xdQMFRCdyhgu"
      },
      "source": [
        "For each customer, we have various characteristics, including the total amount paid, the tips left to the waiter, the day of the week, and the time of the day.\n",
        "\n"
      ]
    },
    {
      "cell_type": "markdown",
      "metadata": {
        "id": "YLPUOB6xyxdv"
      },
      "source": [
        "## 1. Why do We need Efficient Coding?\n"
      ]
    },
    {
      "cell_type": "markdown",
      "metadata": {
        "id": "PBLJceGKy1FR"
      },
      "source": [
        "Efficient code is code that executes faster and with lower computational meomery. In this article, we will use the time() function to measure the computational time. \n",
        "\n",
        "This function measures the current time so we will assign it to a variable before the code execution and after and then calculate the difference to know the computational time of the code. A simple example is shown in the code below:\n",
        "\n"
      ]
    },
    {
      "cell_type": "code",
      "execution_count": null,
      "metadata": {
        "colab": {
          "base_uri": "https://localhost:8080/"
        },
        "id": "0ronfYdopjMo",
        "outputId": "7d2f0a38-b742-40ab-826f-6e8c9276cd41"
      },
      "outputs": [
        {
          "name": "stdout",
          "output_type": "stream",
          "text": [
            "Result calculated in 0.0001010894775390625 sec\n"
          ]
        }
      ],
      "source": [
        "# record time before execution\n",
        "start_time = time.time()\n",
        "# execute operation\n",
        "result = 5 + 2\n",
        "# record time after execution\n",
        "end_time = time.time()\n",
        "print(\"Result calculated in {} sec\".format(end_time - start_time))"
      ]
    },
    {
      "cell_type": "markdown",
      "metadata": {
        "id": "PMjqHZUYy6Im"
      },
      "source": [
        "Let's see some examples of how applying efficient code methods will improve the code runtime and decrease the computational time complexity: We will calculate the square of each number from zero, up to a million. At first, we will use a list comprehension to execute this operation, and then repeat the same procedure using a for-loop.\n",
        "\n",
        "First using list comprehension:\n",
        "\n",
        "\n"
      ]
    },
    {
      "cell_type": "code",
      "execution_count": null,
      "metadata": {
        "colab": {
          "base_uri": "https://localhost:8080/"
        },
        "id": "OeXxZOMRy4Y-",
        "outputId": "4f25b0ce-dff4-440c-f2d4-f7d703cc7229"
      },
      "outputs": [
        {
          "name": "stdout",
          "output_type": "stream",
          "text": [
            "Time using the list_comprehension: 0.12260246276855469 sec\n"
          ]
        }
      ],
      "source": [
        "#using List comprehension \n",
        "list_comp_start_time = time.time()\n",
        "result = [i*i for i in range(0,1000000)]\n",
        "list_comp_end_time = time.time()\n",
        "print(\"Time using the list_comprehension: {} sec\".format(list_comp_end_time -\n",
        "list_comp_start_time))"
      ]
    },
    {
      "cell_type": "markdown",
      "metadata": {
        "id": "pqoqyCQbzBTt"
      },
      "source": [
        "Now we will use for loop to execute the same operation:\n",
        "\n"
      ]
    },
    {
      "cell_type": "code",
      "execution_count": null,
      "metadata": {
        "colab": {
          "base_uri": "https://localhost:8080/"
        },
        "id": "pVJcr30ZzH9z",
        "outputId": "9a409a1b-3e26-454c-af52-e50dff54c165"
      },
      "outputs": [
        {
          "name": "stdout",
          "output_type": "stream",
          "text": [
            "Time using the for loop: 0.37175941467285156 sec\n"
          ]
        }
      ],
      "source": [
        "# Using For loop\n",
        "for_loop_start_time= time.time()\n",
        "result=[]\n",
        "for i in range(0,1000000):\n",
        "  result.append(i*i)\n",
        "for_loop_end_time= time.time()\n",
        "print(\"Time using the for loop: {} sec\".format(for_loop_end_time - for_loop_start_time))"
      ]
    },
    {
      "cell_type": "markdown",
      "metadata": {
        "id": "gGKbSvTiznVq"
      },
      "source": [
        "We can see that there is a big difference between them, we can calculate the difference between them in percentage:\n",
        "\n"
      ]
    },
    {
      "cell_type": "code",
      "execution_count": null,
      "metadata": {
        "colab": {
          "base_uri": "https://localhost:8080/"
        },
        "id": "Ka7TiiU7zO4j",
        "outputId": "e36554c8-0761-4261-d906-5debaa21be6b"
      },
      "outputs": [
        {
          "name": "stdout",
          "output_type": "stream",
          "text": [
            "Difference in time: 203.22344778232394 %\n"
          ]
        }
      ],
      "source": [
        "list_comp_time = list_comp_end_time - list_comp_start_time\n",
        "for_loop_time = for_loop_end_time - for_loop_start_time\n",
        "print(\"Difference in time: {} %\".format((for_loop_time - list_comp_time)/\n",
        "list_comp_time*100))"
      ]
    },
    {
      "cell_type": "markdown",
      "metadata": {
        "id": "8yWk4HrKzrjF"
      },
      "source": [
        "Here is another example to show the effect of writing efficient code. We would like to calculate the sum of all consecutive numbers from 1 to 1 million. There are two ways the first is to use brute force in which we will add one by one to a million.\n",
        "\n"
      ]
    },
    {
      "cell_type": "code",
      "execution_count": null,
      "metadata": {
        "colab": {
          "base_uri": "https://localhost:8080/"
        },
        "id": "zglHUf7t0OPK",
        "outputId": "fc6007e5-5a75-4791-b9f6-0b9c6bc179b4"
      },
      "outputs": [
        {
          "name": "stdout",
          "output_type": "stream",
          "text": [
            "Time using the formula: 5.8650970458984375e-05 sec\n"
          ]
        }
      ],
      "source": [
        "def sum_formula(N):\n",
        "  return N*(N+1)/2\n",
        "  \n",
        "# Using the formula\n",
        "formula_start_time = time.time()\n",
        "formula_result = sum_formula(1000000)\n",
        "formula_end_time = time.time()\n",
        "\n",
        "print(\"Time using the formula: {} sec\".format(formula_end_time - formula_start_time))"
      ]
    },
    {
      "cell_type": "markdown",
      "metadata": {
        "id": "Iek6ZUDuzvJe"
      },
      "source": [
        "Another more efficient method is to use a formula to calculate it. When we want to calculate the sum of all the integer numbers from 1 up to a number, let’s say N, we can multiply N by N+1, and then divide by 2, and this will give us the result we want. This problem was actually given to some students back in Germany in the 19th century, and a bright student called Carl-Friedrich Gauss devised this formula to solve the problem in seconds."
      ]
    },
    {
      "cell_type": "code",
      "execution_count": null,
      "metadata": {
        "colab": {
          "base_uri": "https://localhost:8080/"
        },
        "id": "kLHOBkEG012K",
        "outputId": "8c61e2ef-2335-49bb-eb3e-e599af4927ad"
      },
      "outputs": [
        {
          "name": "stdout",
          "output_type": "stream",
          "text": [
            "Time using brute force: 0.06304192543029785 sec\n"
          ]
        }
      ],
      "source": [
        "def sum_brute_force(N):\n",
        "  res = 0\n",
        "  for i in range(1,N+1):\n",
        "    res+=i\n",
        "  return res\n",
        "\n",
        "# Using brute force\n",
        "bf_start_time = time.time()\n",
        "bf_result = sum_brute_force(1000000)\n",
        "bf_end_time = time.time()\n",
        "\n",
        "print(\"Time using brute force: {} sec\".format(bf_end_time - bf_start_time))"
      ]
    },
    {
      "cell_type": "markdown",
      "metadata": {
        "id": "pD2YNf5Lzxg_"
      },
      "source": [
        "After running both methods, we achieve a massive improvement with a magnitude of over 160,000%, which clearly demonstrates why we need efficient and optimized code, even for simple tasks.\n",
        "\n"
      ]
    },
    {
      "cell_type": "markdown",
      "metadata": {
        "id": "i_I_qklGW5Qb"
      },
      "source": [
        "## 2. Selecting & Replacing Values Effectively\n"
      ]
    },
    {
      "cell_type": "markdown",
      "metadata": {
        "id": "fsWMk5oDz3TZ"
      },
      "source": [
        "Let's first start with two of the most common tasks that you will commonly do on your DataFrame, especially in the data manipulation phase of a data science project. These two tasks are selecting specific and random rows and columns efficiently and the usage of the **replace()** function for replacing one or multiple values using lists and dictionaries\n",
        "\n"
      ]
    },
    {
      "cell_type": "markdown",
      "metadata": {
        "id": "ewYA1rpH0NNf"
      },
      "source": [
        "### 2.1. Selecting Rows & Columns Efficiently using .iloc[] & .loc[]\n"
      ]
    },
    {
      "cell_type": "markdown",
      "metadata": {
        "id": "uUfI93850QZH"
      },
      "source": [
        "In this subsection, we will introduce how to locate and select rows efficiently from dataframes using .**iloc[] **& **.loc[]** pandas functions. We will use iloc[] for the index number locator and **.loc[]** for the index name locator.\n",
        "\n",
        "In the example below we will select the first 500 rows of the poker dataset. Firstly by using the **.loc[]** function, and then by using the **.iloc[]** function.\n",
        "\n"
      ]
    },
    {
      "cell_type": "code",
      "execution_count": null,
      "metadata": {
        "colab": {
          "base_uri": "https://localhost:8080/"
        },
        "id": "WfqFYnLCRzqt",
        "outputId": "8ebaaf29-ff1f-4b60-dae4-d424de42b9fe"
      },
      "outputs": [
        {
          "name": "stdout",
          "output_type": "stream",
          "text": [
            "Time using .loc[] : 0.0024557113647460938 sec\n"
          ]
        }
      ],
      "source": [
        "# Specify the range of rows to select\n",
        "rows = range(0, 500)\n",
        "# Time selecting rows using .loc[]\n",
        "loc_start_time = time.time()\n",
        "poker_data.loc[rows]\n",
        "loc_end_time = time.time()\n",
        "print(\"Time using .loc[] : {} sec\".format(loc_end_time - loc_start_time))"
      ]
    },
    {
      "cell_type": "code",
      "execution_count": null,
      "metadata": {
        "colab": {
          "base_uri": "https://localhost:8080/"
        },
        "id": "6Hfv2HBNR1Js",
        "outputId": "5b4c1055-6657-4e35-addc-4a6cae0bbe24"
      },
      "outputs": [
        {
          "name": "stdout",
          "output_type": "stream",
          "text": [
            "Time using .iloc[]: 0.0007388591766357422 sec\n"
          ]
        }
      ],
      "source": [
        "# Specify the range of rows to select\n",
        "rows = range(0, 500)\n",
        "# Time selecting rows using .iloc[]\n",
        "iloc_start_time = time.time()\n",
        "poker_data.iloc[rows]\n",
        "iloc_end_time = time.time()\n",
        "print(\"Time using .iloc[]: {} sec\".format(iloc_end_time - iloc_start_time))"
      ]
    },
    {
      "cell_type": "code",
      "execution_count": null,
      "metadata": {
        "colab": {
          "base_uri": "https://localhost:8080/"
        },
        "id": "rBd_crENhheC",
        "outputId": "72db5a0b-56ba-448f-a8b4-dcf6eba7f6a3"
      },
      "outputs": [
        {
          "name": "stdout",
          "output_type": "stream",
          "text": [
            "Difference in time: 69.91262135922331 %\n"
          ]
        }
      ],
      "source": [
        "loc_comp_time = loc_end_time - loc_start_time\n",
        "iloc_comp_time = iloc_end_time - iloc_start_time\n",
        "print(\"Difference in time: {} %\".format((loc_comp_time - iloc_comp_time)/\n",
        "loc_comp_time*100))"
      ]
    },
    {
      "cell_type": "markdown",
      "metadata": {
        "id": "A7Pbc-If0wJU"
      },
      "source": [
        "While these two methods have the same syntax, iloc[] performs almost 70% faster than loc[]. The .iloc[] function takes advantage of the order of the indices, which are already sorted, and is therefore faster.\n",
        "\n",
        "We can also use them to select columns not only rows. In the next example, we will select the first three columns using both methods."
      ]
    },
    {
      "cell_type": "code",
      "execution_count": null,
      "metadata": {
        "colab": {
          "base_uri": "https://localhost:8080/"
        },
        "id": "-gkcmMIxWooU",
        "outputId": "4174f516-7c1b-40a5-b355-fa63d0dc2d4b"
      },
      "outputs": [
        {
          "name": "stdout",
          "output_type": "stream",
          "text": [
            "Time using .iloc[]: 0.0004992485046386719 sec\n"
          ]
        }
      ],
      "source": [
        "iloc_start_time = time.time()\n",
        "poker_data.iloc[:,:3]\n",
        "iloc_end_time = time.time()\n",
        "print(\"Time using .iloc[]: {} sec\".format(iloc_end_time - iloc_start_time))"
      ]
    },
    {
      "cell_type": "code",
      "execution_count": null,
      "metadata": {
        "colab": {
          "base_uri": "https://localhost:8080/"
        },
        "id": "NvtZCm5wXE2D",
        "outputId": "672d31df-8fcd-4775-836f-684951dc5c74"
      },
      "outputs": [
        {
          "name": "stdout",
          "output_type": "stream",
          "text": [
            "Time using selection by name: 0.009211063385009766 sec\n"
          ]
        }
      ],
      "source": [
        "names_start_time = time.time()\n",
        "poker_data[['S1', 'R1', 'S2']]\n",
        "names_end_time = time.time()\n",
        "print(\"Time using selection by name: {} sec\".format(names_end_time - names_start_time))"
      ]
    },
    {
      "cell_type": "code",
      "execution_count": null,
      "metadata": {
        "id": "QnhW6HbtXIvD"
      },
      "outputs": [],
      "source": [
        "loc_comp_time = names_end_time - names_start_time\n",
        "iloc_comp_time = iloc_end_time - iloc_start_time\n",
        "print(\"Difference in time: {} %\".format((loc_comp_time - iloc_comp_time)/\n",
        "loc_comp_time*100))"
      ]
    },
    {
      "cell_type": "markdown",
      "metadata": {
        "id": "fslnXkmN2Q7H"
      },
      "source": [
        "We can see also that using the column indexing using **.iloc[]** is still 80% faster. So it is better to use **.iloc[]** as it is faster unless it is easier to use the **.loc[]** to select certain columns by name.\n",
        "\n"
      ]
    },
    {
      "cell_type": "markdown",
      "metadata": {
        "id": "ptZRrFnRg2bR"
      },
      "source": [
        "### 2.2. Replacing Values in a DataFrame Effectively\n"
      ]
    },
    {
      "cell_type": "markdown",
      "metadata": {
        "id": "AzwcVU5b22RN"
      },
      "source": [
        "Replacing values in a DataFrame is a very important task, especially in the data cleaning phase. Since you will have to keep the whole values that represent the same object the same.\n",
        "\n",
        "Let's take a look at the popular baby names dataset we loaded before:\n",
        "\n"
      ]
    },
    {
      "cell_type": "code",
      "execution_count": null,
      "metadata": {
        "colab": {
          "base_uri": "https://localhost:8080/",
          "height": 206
        },
        "id": "Hei7DnO227yC",
        "outputId": "689d06f3-ccb5-4e8e-ec4c-0b22b3eb2905"
      },
      "outputs": [
        {
          "data": {
            "text/html": [
              "\n",
              "  <div id=\"df-417ec1cc-89f9-49cf-9498-d2cdec9a76d7\">\n",
              "    <div class=\"colab-df-container\">\n",
              "      <div>\n",
              "<style scoped>\n",
              "    .dataframe tbody tr th:only-of-type {\n",
              "        vertical-align: middle;\n",
              "    }\n",
              "\n",
              "    .dataframe tbody tr th {\n",
              "        vertical-align: top;\n",
              "    }\n",
              "\n",
              "    .dataframe thead th {\n",
              "        text-align: right;\n",
              "    }\n",
              "</style>\n",
              "<table border=\"1\" class=\"dataframe\">\n",
              "  <thead>\n",
              "    <tr style=\"text-align: right;\">\n",
              "      <th></th>\n",
              "      <th>Year of Birth</th>\n",
              "      <th>Gender</th>\n",
              "      <th>Ethnicity</th>\n",
              "      <th>Child's First Name</th>\n",
              "      <th>Count</th>\n",
              "      <th>Rank</th>\n",
              "    </tr>\n",
              "  </thead>\n",
              "  <tbody>\n",
              "    <tr>\n",
              "      <th>0</th>\n",
              "      <td>2011</td>\n",
              "      <td>FEMALE</td>\n",
              "      <td>ASIAN AND PACIFIC ISLANDER</td>\n",
              "      <td>SOPHIA</td>\n",
              "      <td>119</td>\n",
              "      <td>1</td>\n",
              "    </tr>\n",
              "    <tr>\n",
              "      <th>1</th>\n",
              "      <td>2011</td>\n",
              "      <td>FEMALE</td>\n",
              "      <td>ASIAN AND PACIFIC ISLANDER</td>\n",
              "      <td>CHLOE</td>\n",
              "      <td>106</td>\n",
              "      <td>2</td>\n",
              "    </tr>\n",
              "    <tr>\n",
              "      <th>2</th>\n",
              "      <td>2011</td>\n",
              "      <td>FEMALE</td>\n",
              "      <td>ASIAN AND PACIFIC ISLANDER</td>\n",
              "      <td>EMILY</td>\n",
              "      <td>93</td>\n",
              "      <td>3</td>\n",
              "    </tr>\n",
              "    <tr>\n",
              "      <th>3</th>\n",
              "      <td>2011</td>\n",
              "      <td>FEMALE</td>\n",
              "      <td>ASIAN AND PACIFIC ISLANDER</td>\n",
              "      <td>OLIVIA</td>\n",
              "      <td>89</td>\n",
              "      <td>4</td>\n",
              "    </tr>\n",
              "    <tr>\n",
              "      <th>4</th>\n",
              "      <td>2011</td>\n",
              "      <td>FEMALE</td>\n",
              "      <td>ASIAN AND PACIFIC ISLANDER</td>\n",
              "      <td>EMMA</td>\n",
              "      <td>75</td>\n",
              "      <td>5</td>\n",
              "    </tr>\n",
              "  </tbody>\n",
              "</table>\n",
              "</div>\n",
              "      <button class=\"colab-df-convert\" onclick=\"convertToInteractive('df-417ec1cc-89f9-49cf-9498-d2cdec9a76d7')\"\n",
              "              title=\"Convert this dataframe to an interactive table.\"\n",
              "              style=\"display:none;\">\n",
              "        \n",
              "  <svg xmlns=\"http://www.w3.org/2000/svg\" height=\"24px\"viewBox=\"0 0 24 24\"\n",
              "       width=\"24px\">\n",
              "    <path d=\"M0 0h24v24H0V0z\" fill=\"none\"/>\n",
              "    <path d=\"M18.56 5.44l.94 2.06.94-2.06 2.06-.94-2.06-.94-.94-2.06-.94 2.06-2.06.94zm-11 1L8.5 8.5l.94-2.06 2.06-.94-2.06-.94L8.5 2.5l-.94 2.06-2.06.94zm10 10l.94 2.06.94-2.06 2.06-.94-2.06-.94-.94-2.06-.94 2.06-2.06.94z\"/><path d=\"M17.41 7.96l-1.37-1.37c-.4-.4-.92-.59-1.43-.59-.52 0-1.04.2-1.43.59L10.3 9.45l-7.72 7.72c-.78.78-.78 2.05 0 2.83L4 21.41c.39.39.9.59 1.41.59.51 0 1.02-.2 1.41-.59l7.78-7.78 2.81-2.81c.8-.78.8-2.07 0-2.86zM5.41 20L4 18.59l7.72-7.72 1.47 1.35L5.41 20z\"/>\n",
              "  </svg>\n",
              "      </button>\n",
              "      \n",
              "  <style>\n",
              "    .colab-df-container {\n",
              "      display:flex;\n",
              "      flex-wrap:wrap;\n",
              "      gap: 12px;\n",
              "    }\n",
              "\n",
              "    .colab-df-convert {\n",
              "      background-color: #E8F0FE;\n",
              "      border: none;\n",
              "      border-radius: 50%;\n",
              "      cursor: pointer;\n",
              "      display: none;\n",
              "      fill: #1967D2;\n",
              "      height: 32px;\n",
              "      padding: 0 0 0 0;\n",
              "      width: 32px;\n",
              "    }\n",
              "\n",
              "    .colab-df-convert:hover {\n",
              "      background-color: #E2EBFA;\n",
              "      box-shadow: 0px 1px 2px rgba(60, 64, 67, 0.3), 0px 1px 3px 1px rgba(60, 64, 67, 0.15);\n",
              "      fill: #174EA6;\n",
              "    }\n",
              "\n",
              "    [theme=dark] .colab-df-convert {\n",
              "      background-color: #3B4455;\n",
              "      fill: #D2E3FC;\n",
              "    }\n",
              "\n",
              "    [theme=dark] .colab-df-convert:hover {\n",
              "      background-color: #434B5C;\n",
              "      box-shadow: 0px 1px 3px 1px rgba(0, 0, 0, 0.15);\n",
              "      filter: drop-shadow(0px 1px 2px rgba(0, 0, 0, 0.3));\n",
              "      fill: #FFFFFF;\n",
              "    }\n",
              "  </style>\n",
              "\n",
              "      <script>\n",
              "        const buttonEl =\n",
              "          document.querySelector('#df-417ec1cc-89f9-49cf-9498-d2cdec9a76d7 button.colab-df-convert');\n",
              "        buttonEl.style.display =\n",
              "          google.colab.kernel.accessAllowed ? 'block' : 'none';\n",
              "\n",
              "        async function convertToInteractive(key) {\n",
              "          const element = document.querySelector('#df-417ec1cc-89f9-49cf-9498-d2cdec9a76d7');\n",
              "          const dataTable =\n",
              "            await google.colab.kernel.invokeFunction('convertToInteractive',\n",
              "                                                     [key], {});\n",
              "          if (!dataTable) return;\n",
              "\n",
              "          const docLinkHtml = 'Like what you see? Visit the ' +\n",
              "            '<a target=\"_blank\" href=https://colab.research.google.com/notebooks/data_table.ipynb>data table notebook</a>'\n",
              "            + ' to learn more about interactive tables.';\n",
              "          element.innerHTML = '';\n",
              "          dataTable['output_type'] = 'display_data';\n",
              "          await google.colab.output.renderOutput(dataTable, element);\n",
              "          const docLink = document.createElement('div');\n",
              "          docLink.innerHTML = docLinkHtml;\n",
              "          element.appendChild(docLink);\n",
              "        }\n",
              "      </script>\n",
              "    </div>\n",
              "  </div>\n",
              "  "
            ],
            "text/plain": [
              "   Year of Birth  Gender                   Ethnicity Child's First Name  \\\n",
              "0           2011  FEMALE  ASIAN AND PACIFIC ISLANDER             SOPHIA   \n",
              "1           2011  FEMALE  ASIAN AND PACIFIC ISLANDER              CHLOE   \n",
              "2           2011  FEMALE  ASIAN AND PACIFIC ISLANDER              EMILY   \n",
              "3           2011  FEMALE  ASIAN AND PACIFIC ISLANDER             OLIVIA   \n",
              "4           2011  FEMALE  ASIAN AND PACIFIC ISLANDER               EMMA   \n",
              "\n",
              "   Count  Rank  \n",
              "0    119     1  \n",
              "1    106     2  \n",
              "2     93     3  \n",
              "3     89     4  \n",
              "4     75     5  "
            ]
          },
          "execution_count": 9,
          "metadata": {},
          "output_type": "execute_result"
        }
      ],
      "source": [
        "names = pd.read_csv('Popular_Baby_Names.csv')\n",
        "names.head()"
      ]
    },
    {
      "cell_type": "markdown",
      "metadata": {
        "id": "Qkh8wszJz9TQ"
      },
      "source": [
        "Let's have a closer look at the Gender feature and see the unique values they have:"
      ]
    },
    {
      "cell_type": "code",
      "execution_count": null,
      "metadata": {
        "colab": {
          "base_uri": "https://localhost:8080/"
        },
        "id": "8qqPCpwxE1O6",
        "outputId": "10d8b590-54ae-4fd8-e294-88f78d897313"
      },
      "outputs": [
        {
          "data": {
            "text/plain": [
              "array(['FEMALE', 'female', 'MALE'], dtype=object)"
            ]
          },
          "execution_count": 18,
          "metadata": {},
          "output_type": "execute_result"
        }
      ],
      "source": [
        "names['Gender'].unique()"
      ]
    },
    {
      "cell_type": "markdown",
      "metadata": {
        "id": "ikdCgpii0Ezt"
      },
      "source": [
        "We can see that the female gender is represented with two values both uppercase and lowercase. This is very common in real data and an easy way to do so is to replace one of the values with the other to keep it consistent throughout the whole dataset. There are two ways to do it the first one is simply defining which values we want to replace, and then what we want to replace them with. This is shown in the code below:\n",
        "\n"
      ]
    },
    {
      "cell_type": "code",
      "execution_count": null,
      "metadata": {
        "colab": {
          "base_uri": "https://localhost:8080/"
        },
        "id": "q7QuqCGJ_VbV",
        "outputId": "124d8f3a-de4e-4b53-aab4-69aa5381baff"
      },
      "outputs": [
        {
          "name": "stdout",
          "output_type": "stream",
          "text": [
            "Replace values using .loc[]: 0.006421089172363281 sec\n"
          ]
        },
        {
          "name": "stderr",
          "output_type": "stream",
          "text": [
            "/usr/local/lib/python3.8/dist-packages/pandas/core/indexing.py:1732: SettingWithCopyWarning: \n",
            "A value is trying to be set on a copy of a slice from a DataFrame\n",
            "\n",
            "See the caveats in the documentation: https://pandas.pydata.org/pandas-docs/stable/user_guide/indexing.html#returning-a-view-versus-a-copy\n",
            "  self._setitem_single_block(indexer, value, name)\n"
          ]
        }
      ],
      "source": [
        "start_time = time.time()\n",
        "names['Gender'].loc[names.Gender=='female'] = 'FEMALE'\n",
        "end_time = time.time()\n",
        "\n",
        "pandas_time = end_time - start_time\n",
        "print(\"Replace values using .loc[]: {} sec\".format(pandas_time))"
      ]
    },
    {
      "cell_type": "markdown",
      "metadata": {
        "id": "pBVHt3NE0HpH"
      },
      "source": [
        "The second method is to use the panda's built-in function .replace() as shown in the code below:\n",
        "\n"
      ]
    },
    {
      "cell_type": "code",
      "execution_count": null,
      "metadata": {
        "colab": {
          "base_uri": "https://localhost:8080/"
        },
        "id": "FDRA9i3D_nCJ",
        "outputId": "d637c925-64a6-42bb-a5d5-8622c2076be5"
      },
      "outputs": [
        {
          "name": "stdout",
          "output_type": "stream",
          "text": [
            "Time using replace(): 0.0020818710327148438 sec\n"
          ]
        }
      ],
      "source": [
        "start_time = time.time()\n",
        "names['Gender'].replace('female', 'FEMALE', inplace=True)\n",
        "end_time = time.time()\n",
        "replace_time = end_time - start_time\n",
        "\n",
        "print(\"Time using replace(): {} sec\".format(replace_time))"
      ]
    },
    {
      "cell_type": "markdown",
      "metadata": {
        "id": "fTraocqh0Lfy"
      },
      "source": [
        "We can see that there is a difference in time complexity with the built-in function 157% faster than using the **.loc()** method to find the rows and columns index of the values and replace it.\n",
        "\n"
      ]
    },
    {
      "cell_type": "code",
      "execution_count": null,
      "metadata": {
        "colab": {
          "base_uri": "https://localhost:8080/"
        },
        "id": "mTCVf8dV_vB5",
        "outputId": "978d2241-d0f2-4d37-bbf2-e22c46a83eb7"
      },
      "outputs": [
        {
          "name": "stdout",
          "output_type": "stream",
          "text": [
            "The differnce: 208.42876775080165 %\n"
          ]
        }
      ],
      "source": [
        "print('The differnce: {} %'.format((pandas_time- replace_time )/replace_time*100))"
      ]
    },
    {
      "cell_type": "markdown",
      "metadata": {
        "id": "cUCmoXg2R78-"
      },
      "source": [
        "We can also replace multiple values using lists. Our objective is to change all ethnicities classified as **WHITE NON-HISPANIC** or **WHITE NON-HISP** to WNH. Using the **.loc[]** function, we will locate babies of the ethnicities we are looking for, using the ‘or’ statement (which in Python is symbolized by the pipe). We will then assign the new value. As always, we also measure the CPU time needed for this operation.\n",
        "\n"
      ]
    },
    {
      "cell_type": "code",
      "execution_count": null,
      "metadata": {
        "colab": {
          "base_uri": "https://localhost:8080/"
        },
        "id": "OAO4UYyWDLRx",
        "outputId": "cb12e53c-2c58-4897-9ed7-f8404fb4f146"
      },
      "outputs": [
        {
          "name": "stdout",
          "output_type": "stream",
          "text": [
            "Results from the above operation calculated in 0.009361505508422852 seconds\n"
          ]
        },
        {
          "name": "stderr",
          "output_type": "stream",
          "text": [
            "/usr/local/lib/python3.8/dist-packages/pandas/core/indexing.py:1732: SettingWithCopyWarning: \n",
            "A value is trying to be set on a copy of a slice from a DataFrame\n",
            "\n",
            "See the caveats in the documentation: https://pandas.pydata.org/pandas-docs/stable/user_guide/indexing.html#returning-a-view-versus-a-copy\n",
            "  self._setitem_single_block(indexer, value, name)\n"
          ]
        }
      ],
      "source": [
        "start_time = time.time()\n",
        "\n",
        "names['Ethnicity'].loc[(names[\"Ethnicity\"] == 'WHITE NON HISPANIC') |\n",
        "(names[\"Ethnicity\"] == 'WHITE NON HISP')] = 'WNH'\n",
        "\n",
        "end_time = time.time()\n",
        "pandas_time= end_time - start_time\n",
        "print(\"Results from the above operation calculated in %s seconds\" %(pandas_time))"
      ]
    },
    {
      "cell_type": "markdown",
      "metadata": {
        "id": "EsEuG0QaSRvC"
      },
      "source": [
        "We can also do the same operation using the **.replace()** pandas built-in function as the following:\n",
        "\n"
      ]
    },
    {
      "cell_type": "code",
      "execution_count": null,
      "metadata": {
        "colab": {
          "base_uri": "https://localhost:8080/"
        },
        "id": "463V88rpKsk2",
        "outputId": "2daf7138-f6cf-4d26-9690-74266c5f74e7"
      },
      "outputs": [
        {
          "name": "stdout",
          "output_type": "stream",
          "text": [
            "Time using .replace(): 0.004999876022338867 sec\n"
          ]
        }
      ],
      "source": [
        "start_time = time.time()\n",
        "names['Ethnicity'].replace(['WHITE NON HISPANIC','WHITE NON HISP'],\n",
        "'WNH', inplace=True)\n",
        "\n",
        "end_time = time.time()\n",
        "replace_time = end_time - start_time\n",
        "\n",
        "print(\"Time using .replace(): {} sec\".format(replace_time))"
      ]
    },
    {
      "cell_type": "markdown",
      "metadata": {
        "id": "Lg7Mn8u4SWRh"
      },
      "source": [
        "We can see that again using the **.replace()** method is much faster than using the **.loc[]** method. To have better intuition of how much faster it is let's run the code below:\n",
        "\n"
      ]
    },
    {
      "cell_type": "code",
      "execution_count": null,
      "metadata": {
        "colab": {
          "base_uri": "https://localhost:8080/"
        },
        "id": "bx2YFTopNem9",
        "outputId": "d1a0ac8c-a92a-4f9d-9248-cd0aa18e1e3a"
      },
      "outputs": [
        {
          "name": "stdout",
          "output_type": "stream",
          "text": [
            "The differnce: 87.23475275380287 %\n"
          ]
        }
      ],
      "source": [
        "print('The differnce: {} %'.format((pandas_time- replace_time )/replace_time*100))"
      ]
    },
    {
      "cell_type": "markdown",
      "metadata": {
        "id": "FAmzmVx-SbPq"
      },
      "source": [
        "The **.replace()** method is 87% faster than using the **.loc[]** method. If your data is huge and need a lot of cleaning this tip will decrease the computational time of your data cleaning and makes your pandas code much faster and hence more efficient.\n",
        "\n",
        "Finally, we can also use dictionaries to replace both single and multiple values in your DataFrame. This will be very helpful if you would like to multiple replacing functions in one command.\n",
        "\n",
        "We’re going to use dictionaries to replace every male’s gender with BOY and every female’s gender with GIRL.\n",
        "\n"
      ]
    },
    {
      "cell_type": "code",
      "execution_count": null,
      "metadata": {
        "colab": {
          "base_uri": "https://localhost:8080/"
        },
        "id": "BxvHpHvbSCgs",
        "outputId": "25f834d5-5a81-4f77-bc3d-5f0edf6dd7f0"
      },
      "outputs": [
        {
          "name": "stdout",
          "output_type": "stream",
          "text": [
            "Time using .replace() with dictionary: 0.0028214454650878906 sec\n"
          ]
        }
      ],
      "source": [
        "names = pd.read_csv('Popular_Baby_Names.csv')\n",
        "\n",
        "start_time = time.time()\n",
        "names['Gender'].replace({'MALE':'BOY', 'FEMALE':'GIRL', 'female': 'girl'}, inplace=True)\n",
        "end_time = time.time()\n",
        "dict_time = end_time - start_time\n",
        "print(\"Time using .replace() with dictionary: {} sec\".format(dict_time))"
      ]
    },
    {
      "cell_type": "code",
      "execution_count": null,
      "metadata": {
        "colab": {
          "base_uri": "https://localhost:8080/"
        },
        "id": "7RSTV7vVp5h_",
        "outputId": "5d82a8e8-ff4a-4e68-b8f2-55703fc52aca"
      },
      "outputs": [
        {
          "name": "stdout",
          "output_type": "stream",
          "text": [
            "Time using multiple .replace(): 0.0034189224243164062 sec\n"
          ]
        }
      ],
      "source": [
        "names = pd.read_csv('Popular_Baby_Names.csv')\n",
        "\n",
        "start_time = time.time()\n",
        "\n",
        "names['Gender'].replace('MALE', 'BOY', inplace=True)\n",
        "names['Gender'].replace('FEMALE', 'GIRL', inplace=True)\n",
        "names['Gender'].replace('female', 'girl', inplace=True)\n",
        "\n",
        "end_time = time.time()\n",
        "\n",
        "list_time = end_time - start_time\n",
        "print(\"Time using multiple .replace(): {} sec\".format(list_time))"
      ]
    },
    {
      "cell_type": "code",
      "execution_count": null,
      "metadata": {
        "colab": {
          "base_uri": "https://localhost:8080/"
        },
        "id": "DiKLs3YWsAt6",
        "outputId": "0eb3f97a-416f-4f27-d126-164bc8486452"
      },
      "outputs": [
        {
          "name": "stdout",
          "output_type": "stream",
          "text": [
            "The differnce: 21.176271759337503 %\n"
          ]
        }
      ],
      "source": [
        "print('The differnce: {} %'.format((list_time- dict_time )/dict_time*100))"
      ]
    },
    {
      "cell_type": "markdown",
      "metadata": {
        "id": "DGw3KogAfDz8"
      },
      "source": [
        "We could do the same thing with lists, but it’s more verbose. If we compare both methods, we can see that dictionaries run approximately 22% faster. In general, working with dictionaries in Python is very efficient compared to lists: looking through a list requires a pass in every element of the list while looking at a dictionary directs instantly to the key that matches the entry. The comparison is a little unfair though since both structures serve different purposes.\n",
        "\n",
        "Using dictionaries allows you to replace the same values on several different columns. In all the previous examples, we specified the column from which the values to replace came. We’re now going to replace several values from the same column with one common value. We want to classify all ethnicities into three big categories: Black, Asian and White. The syntax again is very simple. We use nested dictionaries here: the outer key is the column in which we want to replace values. The value of this outer key is another dictionary, where the keys are the ethnicities to replace, and the values for the new ethnicity (Black, Asian or White)."
      ]
    },
    {
      "cell_type": "code",
      "execution_count": null,
      "metadata": {
        "colab": {
          "base_uri": "https://localhost:8080/"
        },
        "id": "aGo1RUmuqINu",
        "outputId": "37101918-2cfb-4014-99f2-a6a99b540879"
      },
      "outputs": [
        {
          "name": "stdout",
          "output_type": "stream",
          "text": [
            "Time using .replace() with dictionary: 0.0232393741607666 sec\n"
          ]
        }
      ],
      "source": [
        "start_time = time.time()\n",
        "names.replace({'Ethnicity': {'ASIAN AND PACI': 'ASIAN', 'ASIAN AND PACIFIC ISLANDER': 'ASIAN',\n",
        "'BLACK NON HISPANIC': 'BLACK', 'BLACK NON HISP': 'BLACK',\n",
        "'WHITE NON HISPANIC': 'WHITE', 'WHITE NON HISP': 'WHITE'}})\n",
        "print(\"Time using .replace() with dictionary: {} sec\".format (time.time() - start_time))"
      ]
    },
    {
      "cell_type": "markdown",
      "metadata": {
        "id": "Wo0s4SadeSk-"
      },
      "source": [
        "## 2.3. Summary of best practices for selecting and replacing values\n",
        "* Selecting rows and columns is faster using the .iloc[] function. So it is better to use unless it is easier or more convenient to use .loc[] and the speed is not a priority or you are just doing it once.\n",
        "* Using the built-in replace() function is much faster than just using conventional methods.\n",
        "* Replacing multiple values using python dictionaries is faster than using lists.\n"
      ]
    },
    {
      "cell_type": "markdown",
      "metadata": {
        "id": "FFg2bqKB2ObC"
      },
      "source": [
        "## 3. Iterate Effectively Through Pandas DataFrame\n"
      ]
    },
    {
      "cell_type": "markdown",
      "metadata": {
        "id": "T2oxGNcW2SNq"
      },
      "source": [
        "As a data scientist, you will need to iterate through your dataframe extensively, especially in the data preparation and exploration phase, so it is important to be able to do this efficiently, as it will save you much time and give space for more important work. We will walk through three methods to make your loops much faster and more efficient:\n",
        "\n",
        "* Looping using the .iterrows() function\n",
        "* Looping using the .apply() function\n",
        "* Vectorization\n"
      ]
    },
    {
      "cell_type": "markdown",
      "metadata": {
        "id": "SQjPBhCL2aDU"
      },
      "source": [
        "### 3.1. Looping effectively using .iterrows()\n",
        "Before we talk about how to use the .iterrows() function to improve the looping process, let’s refresh the notion of a generator function.\n",
        "\n",
        "Generators are a simple tool to create iterators. Inside the body of a generator, instead of return statements, you will find only yield() statements. There can be just one, or several yield() statements. Here, we can see a generator, city_name_generator(), that produces four city names. We assign the generator to the variable city_names for simplicity.\n",
        "\n"
      ]
    },
    {
      "cell_type": "code",
      "execution_count": null,
      "metadata": {
        "id": "Gs6UTJjqqLT-"
      },
      "outputs": [],
      "source": [
        "def city_name_generator():\n",
        "  yield('New York')\n",
        "  yield('London')\n",
        "  yield('Tokyo')\n",
        "  yield('Sao Paolo')\n",
        "\n",
        "city_names = city_name_generator()\n"
      ]
    },
    {
      "cell_type": "markdown",
      "metadata": {
        "id": "x7-XgpHX2fH7"
      },
      "source": [
        "To access the elements that the generator yields we can use Python’s next() function. Each time the next() command is used, the generator will produce the next value to yield, until there are no more values to yield. We here have 4 cities. Let’s run the next command four times and see what it returns:\n",
        "\n"
      ]
    },
    {
      "cell_type": "code",
      "execution_count": null,
      "metadata": {
        "colab": {
          "base_uri": "https://localhost:8080/",
          "height": 35
        },
        "id": "BdS9iCA2ESQu",
        "outputId": "8a25c76a-6fa2-47db-ddf9-977d7b57932f"
      },
      "outputs": [
        {
          "data": {
            "application/vnd.google.colaboratory.intrinsic+json": {
              "type": "string"
            },
            "text/plain": [
              "'New York'"
            ]
          },
          "execution_count": 2,
          "metadata": {},
          "output_type": "execute_result"
        }
      ],
      "source": [
        "next(city_names)"
      ]
    },
    {
      "cell_type": "code",
      "execution_count": null,
      "metadata": {
        "colab": {
          "base_uri": "https://localhost:8080/",
          "height": 35
        },
        "id": "vRT4Eaz1GgUI",
        "outputId": "14fae336-6331-48e8-fb83-317d168014eb"
      },
      "outputs": [
        {
          "data": {
            "application/vnd.google.colaboratory.intrinsic+json": {
              "type": "string"
            },
            "text/plain": [
              "'London'"
            ]
          },
          "execution_count": 3,
          "metadata": {},
          "output_type": "execute_result"
        }
      ],
      "source": [
        "next(city_names)"
      ]
    },
    {
      "cell_type": "code",
      "execution_count": null,
      "metadata": {
        "colab": {
          "base_uri": "https://localhost:8080/",
          "height": 35
        },
        "id": "hA6SCwAUGh79",
        "outputId": "0eaf8af0-f56f-4534-ffad-ce3c10590f4e"
      },
      "outputs": [
        {
          "data": {
            "application/vnd.google.colaboratory.intrinsic+json": {
              "type": "string"
            },
            "text/plain": [
              "'Tokyo'"
            ]
          },
          "execution_count": 4,
          "metadata": {},
          "output_type": "execute_result"
        }
      ],
      "source": [
        "next(city_names)"
      ]
    },
    {
      "cell_type": "code",
      "execution_count": null,
      "metadata": {
        "colab": {
          "base_uri": "https://localhost:8080/",
          "height": 35
        },
        "id": "rKjG6CzhGjob",
        "outputId": "741af17b-186c-4ab0-d475-fe18e49cd5c9"
      },
      "outputs": [
        {
          "data": {
            "application/vnd.google.colaboratory.intrinsic+json": {
              "type": "string"
            },
            "text/plain": [
              "'Sao Paolo'"
            ]
          },
          "execution_count": 5,
          "metadata": {},
          "output_type": "execute_result"
        }
      ],
      "source": [
        "next(city_names)"
      ]
    },
    {
      "cell_type": "markdown",
      "metadata": {
        "id": "5FFZfu_K2oP8"
      },
      "source": [
        "As we can see that every time we run the next() function it will print a new city name.\n",
        "\n"
      ]
    },
    {
      "cell_type": "markdown",
      "metadata": {
        "id": "Va18cE2T3Rvw"
      },
      "source": [
        "Let's go back to the .iterrows() function. The .iterrows() function is a property of every pandas DataFrame. When called, it produces a list with two elements. We will use this generator to iterate through each line of our poker DataFrame. The first element is the index of the row, while the second element contains a pandas Series of each feature of the row: the Symbol and the Rank for each of the five cards. It is very similar to the notion of the enumerate() function, which when applied to a list, returns each element along with its index.\n",
        "\n",
        "The most intuitive way to iterate through a Pandas DataFrame is to use the range() function, which is often called crude looping. This is shown with the code below:\n",
        "\n"
      ]
    },
    {
      "cell_type": "code",
      "execution_count": null,
      "metadata": {
        "colab": {
          "base_uri": "https://localhost:8080/"
        },
        "id": "r55m_fxePy5N",
        "outputId": "2432444e-a802-4e92-e7d1-fd0146b578c3"
      },
      "outputs": [
        {
          "name": "stdout",
          "output_type": "stream",
          "text": [
            "Time using range(): 0.0036385059356689453 sec\n"
          ]
        }
      ],
      "source": [
        "start_time = time.time()\n",
        "for index in range(poker_data.shape[0]):\n",
        "  next\n",
        "print(\"Time using range(): {} sec\".format(time.time() - start_time))"
      ]
    },
    {
      "cell_type": "markdown",
      "metadata": {
        "id": "gFaF1Z-13Way"
      },
      "source": [
        "One smarter way to iterate through a pandas DataFrame is to use the **.iterrows()** function, which is optimized for this task. We simply define the **‘for’** loop with two iterators, one for the number of each row and the other for all the values.\n",
        "\n",
        "Inside the loop, the **next()** command indicates that the loop moves to the next value of the iterator, without actually doing something."
      ]
    },
    {
      "cell_type": "code",
      "execution_count": null,
      "metadata": {
        "colab": {
          "base_uri": "https://localhost:8080/"
        },
        "id": "saqXt53lNPDQ",
        "outputId": "2ac4354c-25d1-4032-a9eb-df7d81e8a7d2"
      },
      "outputs": [
        {
          "name": "stdout",
          "output_type": "stream",
          "text": [
            "Time using .iterrows(): 1.2583379745483398 sec\n"
          ]
        }
      ],
      "source": [
        "data_generator = poker_data.iterrows()\n",
        "start_time = time.time()\n",
        "for index, values in data_generator:\n",
        "  next\n",
        "print(\"Time using .iterrows(): {} sec\".format(time.time() - start_time))"
      ]
    },
    {
      "cell_type": "markdown",
      "metadata": {
        "id": "mD6O-NjL3hah"
      },
      "source": [
        "Comparing the two computational times we can also notice that the use of .iterrows() does not improve the speed of iterating through pandas DataFrame. It is very useful though when we need a cleaner way to use the values of each row while iterating through the dataset.\n"
      ]
    },
    {
      "cell_type": "markdown",
      "metadata": {
        "id": "0fqYrl6F3q-_"
      },
      "source": [
        "### 3.2. Looping effectively using .apply()"
      ]
    },
    {
      "cell_type": "markdown",
      "metadata": {
        "id": "x6Y4ACXY3pDX"
      },
      "source": [
        "Now we will use the **.apply()** function to be able to perform a specific task while iterating through a pandas DataFrame. The **.apply()** function does exactly what it says; it applies another function to the whole DataFrame.\n",
        "\n",
        "The syntax of the **.apply()** function is simple: we create a mapping, using a lambda function in this case, and then declare the function we want to apply to every cell. Here, we’re applying the square root function to every cell of the DataFrame. In terms of speed, it matches the speed of just using the NumPy sqrt() function over the whole DataFrame.\n"
      ]
    },
    {
      "cell_type": "code",
      "execution_count": null,
      "metadata": {
        "colab": {
          "base_uri": "https://localhost:8080/",
          "height": 206
        },
        "id": "GVixY9NAP7JI",
        "outputId": "447e5a58-91e1-42d1-cfa4-21582df6b580"
      },
      "outputs": [
        {
          "data": {
            "text/html": [
              "\n",
              "  <div id=\"df-68d3ecd1-faa7-407d-825a-d187213248a6\">\n",
              "    <div class=\"colab-df-container\">\n",
              "      <div>\n",
              "<style scoped>\n",
              "    .dataframe tbody tr th:only-of-type {\n",
              "        vertical-align: middle;\n",
              "    }\n",
              "\n",
              "    .dataframe tbody tr th {\n",
              "        vertical-align: top;\n",
              "    }\n",
              "\n",
              "    .dataframe thead th {\n",
              "        text-align: right;\n",
              "    }\n",
              "</style>\n",
              "<table border=\"1\" class=\"dataframe\">\n",
              "  <thead>\n",
              "    <tr style=\"text-align: right;\">\n",
              "      <th></th>\n",
              "      <th>S1</th>\n",
              "      <th>R1</th>\n",
              "      <th>S2</th>\n",
              "      <th>R2</th>\n",
              "      <th>S3</th>\n",
              "      <th>R3</th>\n",
              "      <th>S4</th>\n",
              "      <th>R4</th>\n",
              "      <th>S5</th>\n",
              "      <th>R5</th>\n",
              "      <th>Class</th>\n",
              "    </tr>\n",
              "  </thead>\n",
              "  <tbody>\n",
              "    <tr>\n",
              "      <th>0</th>\n",
              "      <td>1.000000</td>\n",
              "      <td>3.162278</td>\n",
              "      <td>1.000000</td>\n",
              "      <td>3.316625</td>\n",
              "      <td>1.000000</td>\n",
              "      <td>3.605551</td>\n",
              "      <td>1.000000</td>\n",
              "      <td>3.464102</td>\n",
              "      <td>1.000000</td>\n",
              "      <td>1.000000</td>\n",
              "      <td>3.0</td>\n",
              "    </tr>\n",
              "    <tr>\n",
              "      <th>1</th>\n",
              "      <td>1.414214</td>\n",
              "      <td>3.316625</td>\n",
              "      <td>1.414214</td>\n",
              "      <td>3.605551</td>\n",
              "      <td>1.414214</td>\n",
              "      <td>3.162278</td>\n",
              "      <td>1.414214</td>\n",
              "      <td>3.464102</td>\n",
              "      <td>1.414214</td>\n",
              "      <td>1.000000</td>\n",
              "      <td>3.0</td>\n",
              "    </tr>\n",
              "    <tr>\n",
              "      <th>2</th>\n",
              "      <td>1.732051</td>\n",
              "      <td>3.464102</td>\n",
              "      <td>1.732051</td>\n",
              "      <td>3.316625</td>\n",
              "      <td>1.732051</td>\n",
              "      <td>3.605551</td>\n",
              "      <td>1.732051</td>\n",
              "      <td>3.162278</td>\n",
              "      <td>1.732051</td>\n",
              "      <td>1.000000</td>\n",
              "      <td>3.0</td>\n",
              "    </tr>\n",
              "    <tr>\n",
              "      <th>3</th>\n",
              "      <td>2.000000</td>\n",
              "      <td>3.162278</td>\n",
              "      <td>2.000000</td>\n",
              "      <td>3.316625</td>\n",
              "      <td>2.000000</td>\n",
              "      <td>1.000000</td>\n",
              "      <td>2.000000</td>\n",
              "      <td>3.605551</td>\n",
              "      <td>2.000000</td>\n",
              "      <td>3.464102</td>\n",
              "      <td>3.0</td>\n",
              "    </tr>\n",
              "    <tr>\n",
              "      <th>4</th>\n",
              "      <td>2.000000</td>\n",
              "      <td>1.000000</td>\n",
              "      <td>2.000000</td>\n",
              "      <td>3.605551</td>\n",
              "      <td>2.000000</td>\n",
              "      <td>3.464102</td>\n",
              "      <td>2.000000</td>\n",
              "      <td>3.316625</td>\n",
              "      <td>2.000000</td>\n",
              "      <td>3.162278</td>\n",
              "      <td>3.0</td>\n",
              "    </tr>\n",
              "  </tbody>\n",
              "</table>\n",
              "</div>\n",
              "      <button class=\"colab-df-convert\" onclick=\"convertToInteractive('df-68d3ecd1-faa7-407d-825a-d187213248a6')\"\n",
              "              title=\"Convert this dataframe to an interactive table.\"\n",
              "              style=\"display:none;\">\n",
              "        \n",
              "  <svg xmlns=\"http://www.w3.org/2000/svg\" height=\"24px\"viewBox=\"0 0 24 24\"\n",
              "       width=\"24px\">\n",
              "    <path d=\"M0 0h24v24H0V0z\" fill=\"none\"/>\n",
              "    <path d=\"M18.56 5.44l.94 2.06.94-2.06 2.06-.94-2.06-.94-.94-2.06-.94 2.06-2.06.94zm-11 1L8.5 8.5l.94-2.06 2.06-.94-2.06-.94L8.5 2.5l-.94 2.06-2.06.94zm10 10l.94 2.06.94-2.06 2.06-.94-2.06-.94-.94-2.06-.94 2.06-2.06.94z\"/><path d=\"M17.41 7.96l-1.37-1.37c-.4-.4-.92-.59-1.43-.59-.52 0-1.04.2-1.43.59L10.3 9.45l-7.72 7.72c-.78.78-.78 2.05 0 2.83L4 21.41c.39.39.9.59 1.41.59.51 0 1.02-.2 1.41-.59l7.78-7.78 2.81-2.81c.8-.78.8-2.07 0-2.86zM5.41 20L4 18.59l7.72-7.72 1.47 1.35L5.41 20z\"/>\n",
              "  </svg>\n",
              "      </button>\n",
              "      \n",
              "  <style>\n",
              "    .colab-df-container {\n",
              "      display:flex;\n",
              "      flex-wrap:wrap;\n",
              "      gap: 12px;\n",
              "    }\n",
              "\n",
              "    .colab-df-convert {\n",
              "      background-color: #E8F0FE;\n",
              "      border: none;\n",
              "      border-radius: 50%;\n",
              "      cursor: pointer;\n",
              "      display: none;\n",
              "      fill: #1967D2;\n",
              "      height: 32px;\n",
              "      padding: 0 0 0 0;\n",
              "      width: 32px;\n",
              "    }\n",
              "\n",
              "    .colab-df-convert:hover {\n",
              "      background-color: #E2EBFA;\n",
              "      box-shadow: 0px 1px 2px rgba(60, 64, 67, 0.3), 0px 1px 3px 1px rgba(60, 64, 67, 0.15);\n",
              "      fill: #174EA6;\n",
              "    }\n",
              "\n",
              "    [theme=dark] .colab-df-convert {\n",
              "      background-color: #3B4455;\n",
              "      fill: #D2E3FC;\n",
              "    }\n",
              "\n",
              "    [theme=dark] .colab-df-convert:hover {\n",
              "      background-color: #434B5C;\n",
              "      box-shadow: 0px 1px 3px 1px rgba(0, 0, 0, 0.15);\n",
              "      filter: drop-shadow(0px 1px 2px rgba(0, 0, 0, 0.3));\n",
              "      fill: #FFFFFF;\n",
              "    }\n",
              "  </style>\n",
              "\n",
              "      <script>\n",
              "        const buttonEl =\n",
              "          document.querySelector('#df-68d3ecd1-faa7-407d-825a-d187213248a6 button.colab-df-convert');\n",
              "        buttonEl.style.display =\n",
              "          google.colab.kernel.accessAllowed ? 'block' : 'none';\n",
              "\n",
              "        async function convertToInteractive(key) {\n",
              "          const element = document.querySelector('#df-68d3ecd1-faa7-407d-825a-d187213248a6');\n",
              "          const dataTable =\n",
              "            await google.colab.kernel.invokeFunction('convertToInteractive',\n",
              "                                                     [key], {});\n",
              "          if (!dataTable) return;\n",
              "\n",
              "          const docLinkHtml = 'Like what you see? Visit the ' +\n",
              "            '<a target=\"_blank\" href=https://colab.research.google.com/notebooks/data_table.ipynb>data table notebook</a>'\n",
              "            + ' to learn more about interactive tables.';\n",
              "          element.innerHTML = '';\n",
              "          dataTable['output_type'] = 'display_data';\n",
              "          await google.colab.output.renderOutput(dataTable, element);\n",
              "          const docLink = document.createElement('div');\n",
              "          docLink.innerHTML = docLinkHtml;\n",
              "          element.appendChild(docLink);\n",
              "        }\n",
              "      </script>\n",
              "    </div>\n",
              "  </div>\n",
              "  "
            ],
            "text/plain": [
              "         S1        R1        S2        R2        S3        R3        S4  \\\n",
              "0  1.000000  3.162278  1.000000  3.316625  1.000000  3.605551  1.000000   \n",
              "1  1.414214  3.316625  1.414214  3.605551  1.414214  3.162278  1.414214   \n",
              "2  1.732051  3.464102  1.732051  3.316625  1.732051  3.605551  1.732051   \n",
              "3  2.000000  3.162278  2.000000  3.316625  2.000000  1.000000  2.000000   \n",
              "4  2.000000  1.000000  2.000000  3.605551  2.000000  3.464102  2.000000   \n",
              "\n",
              "         R4        S5        R5  Class  \n",
              "0  3.464102  1.000000  1.000000    3.0  \n",
              "1  3.464102  1.414214  1.000000    3.0  \n",
              "2  3.162278  1.732051  1.000000    3.0  \n",
              "3  3.605551  2.000000  3.464102    3.0  \n",
              "4  3.316625  2.000000  3.162278    3.0  "
            ]
          },
          "execution_count": 3,
          "metadata": {},
          "output_type": "execute_result"
        }
      ],
      "source": [
        "data_sqrt = poker_data.apply(lambda x: np.sqrt(x), axis =0 )\n",
        "data_sqrt.head()"
      ]
    },
    {
      "cell_type": "markdown",
      "metadata": {
        "id": "dMg4d5SV4IL-"
      },
      "source": [
        "This is a simple example since we would like to apply this function to the dataframe.\n",
        "\n",
        "But what happens when the function of interest is taking more than one cell as an input? For example, what if we want to calculate the sum of the rank of all the cards in each hand? In this case, we will use the .apply() function the same way as we did before, but we need to add ‘axis=1’ at the end of the line to specify we’re applying the function to each row.\n",
        "\n"
      ]
    },
    {
      "cell_type": "code",
      "execution_count": null,
      "metadata": {
        "colab": {
          "base_uri": "https://localhost:8080/"
        },
        "id": "6dzHsYQdjtfa",
        "outputId": "4e4351c3-174a-4961-83da-1627f5db1e89"
      },
      "outputs": [
        {
          "name": "stdout",
          "output_type": "stream",
          "text": [
            "Time using .apply(): 0.2000577449798584 sec\n"
          ]
        }
      ],
      "source": [
        "apply_start_time = time.time()\n",
        "poker_data[['R1', 'R2', 'R3', 'R4', 'R5']].apply(lambda x: sum(x), axis=1)\n",
        "apply_end_time = time.time()\n",
        "apply_time = apply_end_time - apply_start_time\n",
        "print(\"Time using .apply(): {} sec\".format(apply_time))"
      ]
    },
    {
      "cell_type": "markdown",
      "metadata": {
        "id": "6Jg-EIJV4McK"
      },
      "source": [
        "Then, we will use the .iterrows() function we saw previously, and compare their efficiency.\n",
        "\n"
      ]
    },
    {
      "cell_type": "code",
      "execution_count": null,
      "metadata": {
        "colab": {
          "base_uri": "https://localhost:8080/"
        },
        "id": "sOkXe8gxrXOX",
        "outputId": "2b901612-ffb1-438d-952c-04b9ce221c62"
      },
      "outputs": [
        {
          "name": "stdout",
          "output_type": "stream",
          "text": [
            "Time using .iterrows(): 1.1545953750610352 sec\n"
          ]
        }
      ],
      "source": [
        "for_loop_start_time = time.time()\n",
        "for ind, value in poker_data.iterrows():\n",
        "  sum([value[1], value[3], value[5], value[7], value[9]])\n",
        "for_loop_end_time = time.time()\n",
        "\n",
        "for_loop_time = for_loop_end_time - for_loop_start_time\n",
        "print(\"Time using .iterrows(): {} sec\".format(for_loop_time))"
      ]
    },
    {
      "cell_type": "markdown",
      "metadata": {
        "id": "V3FUIUts4PBG"
      },
      "source": [
        "Using the .apply() function is significantly faster than the .iterrows() function, with a magnitude of around 400 percent, which is a massive improvement!\n",
        "\n"
      ]
    },
    {
      "cell_type": "code",
      "execution_count": null,
      "metadata": {
        "colab": {
          "base_uri": "https://localhost:8080/"
        },
        "id": "JGFa3H3ysxmE",
        "outputId": "566e5293-2da4-4f63-9b0a-8e065689326f"
      },
      "outputs": [
        {
          "name": "stdout",
          "output_type": "stream",
          "text": [
            "The differnce: 477.1310554246618 %\n"
          ]
        }
      ],
      "source": [
        "print('The differnce: {} %'.format((for_loop_time - apply_time) / apply_time * 100))"
      ]
    },
    {
      "cell_type": "markdown",
      "metadata": {
        "id": "7FE-SES04VZc"
      },
      "source": [
        "As we did with rows, we can do exactly the same thing for the columns; apply one function to each column. By replacing the axis=1 with axis=0, we can apply the sum function on every column.\n",
        "\n"
      ]
    },
    {
      "cell_type": "code",
      "execution_count": null,
      "metadata": {
        "colab": {
          "base_uri": "https://localhost:8080/"
        },
        "id": "TqSssrebte0e",
        "outputId": "9aa644fc-cb77-4e73-823b-fd749617722e"
      },
      "outputs": [
        {
          "name": "stdout",
          "output_type": "stream",
          "text": [
            "Time using .apply(): 0.021090030670166016 sec\n"
          ]
        }
      ],
      "source": [
        "apply_start_time = time.time()\n",
        "poker_data[['R1', 'R2', 'R3', 'R4', 'R5']].apply(lambda x: sum(x), axis=0)\n",
        "apply_end_time = time.time()\n",
        "apply_time = apply_end_time - apply_start_time\n",
        "print(\"Time using .apply(): {} sec\".format(apply_time))"
      ]
    },
    {
      "cell_type": "markdown",
      "metadata": {
        "id": "KybwcTHL4YNl"
      },
      "source": [
        "By comparing the **.apply()** function with the native panda's function for summing over rows, we can see that pandas’ native .sum() functions perform the same operation faster.\n",
        "\n"
      ]
    },
    {
      "cell_type": "code",
      "execution_count": null,
      "metadata": {
        "colab": {
          "base_uri": "https://localhost:8080/"
        },
        "id": "c9N3WsQDP_kF",
        "outputId": "7a395b28-fb3f-4e58-8189-d24e9714fc62"
      },
      "outputs": [
        {
          "name": "stdout",
          "output_type": "stream",
          "text": [
            "Time using pandas: 0.0039751529693603516 sec\n"
          ]
        }
      ],
      "source": [
        "pandas_start_time = time.time()\n",
        "poker_data[['R1', 'R1', 'R3', 'R4', 'R5']].sum(axis=0)\n",
        "pandas_end_time = time.time()\n",
        "pandas_time = pandas_end_time - pandas_start_time\n",
        "print(\"Time using pandas: {} sec\".format(pandas_time))"
      ]
    },
    {
      "cell_type": "code",
      "execution_count": null,
      "metadata": {
        "colab": {
          "base_uri": "https://localhost:8080/"
        },
        "id": "89czJRWaQC83",
        "outputId": "1e30f4ea-2d55-4035-9def-e2d587b4296d"
      },
      "outputs": [
        {
          "name": "stdout",
          "output_type": "stream",
          "text": [
            "The differnce: 430.54639237089907 %\n"
          ]
        }
      ],
      "source": [
        "print('The differnce: {} %'.format((apply_time - pandas_time) / pandas_time * 100))"
      ]
    },
    {
      "cell_type": "markdown",
      "metadata": {
        "id": "ul9vEJjD40cf"
      },
      "source": [
        "In conclusion, we observe that the .apply() function performs faster when we want to iterate through all the rows of a pandas DataFrame, but is slower when we perform the same operation through a column.\n",
        "\n"
      ]
    },
    {
      "cell_type": "markdown",
      "metadata": {
        "id": "5RjLUtkmUuhy"
      },
      "source": [
        "### 3.3.Looping effectively using vectorization"
      ]
    },
    {
      "cell_type": "markdown",
      "metadata": {
        "id": "k1sJKs2d49tX"
      },
      "source": [
        "To understand how we can reduce the amount of iteration performed by the function, recall that the fundamental units of Pandas, DataFrames, and Series, are both based on arrays. Pandas perform more efficiently when an operation is performed to a whole array than to each value separately or sequentially. This can be achieved through vectorization. Vectorization is the process of executing operations on entire arrays.\n",
        "\n",
        "In the code below we want to calculate the sum of the ranks of all the cards in each hand. In order to do that, we slice the poker dataset keeping only the columns that contain the ranks of each card. Then, we call the built-in .sum() property of the DataFrame, using the parameter axis = 1 to denote that we want the sum for each row. In the end, we print the sum of the first five rows of the data.\n",
        "\n"
      ]
    },
    {
      "cell_type": "code",
      "execution_count": null,
      "metadata": {
        "colab": {
          "base_uri": "https://localhost:8080/"
        },
        "id": "QsTG45mKQ-Mi",
        "outputId": "1acedf98-4a2a-4f9b-d04c-f4dc062baf52"
      },
      "outputs": [
        {
          "name": "stdout",
          "output_type": "stream",
          "text": [
            "Time using pandas vectorization: 0.009327411651611328 sec\n"
          ]
        }
      ],
      "source": [
        "start_time_vectorization = time.time()\n",
        "\n",
        "poker_data[['R1', 'R2', 'R3', 'R4', 'R5']].sum(axis=1)\n",
        "end_time_vectorization = time.time()\n",
        "\n",
        "vectorization_time = end_time_vectorization  - start_time_vectorization\n",
        "print(\"Time using pandas vectorization: {} sec\".format(vectorization_time))"
      ]
    },
    {
      "cell_type": "markdown",
      "metadata": {
        "id": "ljv_-ySq7qRL"
      },
      "source": [
        "We saw previously various methods that perform functions applied to a DataFrame faster than simply iterating through all the rows of the DataFrame. Our goal is to find the most efficient method to perform this task.\n",
        "\n"
      ]
    },
    {
      "cell_type": "markdown",
      "metadata": {
        "id": "3H338N5h7wgS"
      },
      "source": [
        "Using .iterrows() to loop through the DataFrame:\n"
      ]
    },
    {
      "cell_type": "code",
      "execution_count": null,
      "metadata": {
        "colab": {
          "base_uri": "https://localhost:8080/"
        },
        "id": "kyivEyu_V1OO",
        "outputId": "816b1050-4228-42e2-a81c-164b75cab419"
      },
      "outputs": [
        {
          "name": "stdout",
          "output_type": "stream",
          "text": [
            "Time using .iterrows() 1.1502439975738525 seconds \n"
          ]
        }
      ],
      "source": [
        "data_generator = poker_data.iterrows()\n",
        "\n",
        "start_time_iterrows = time.time()\n",
        "\n",
        "for index, value in data_generator:\n",
        "  sum([value[1], value[3], value[5], value[7]])\n",
        "\n",
        "end_time_iterrows = time.time()\n",
        "iterrows_time = end_time_iterrows - start_time_iterrows\n",
        "print(\"Time using .iterrows() {} seconds \" .format(iterrows_time))"
      ]
    },
    {
      "cell_type": "markdown",
      "metadata": {
        "id": "0FURW1ta71Mj"
      },
      "source": [
        "Using the .apply() mehtod\n"
      ]
    },
    {
      "cell_type": "code",
      "execution_count": null,
      "metadata": {
        "colab": {
          "base_uri": "https://localhost:8080/"
        },
        "id": "M4rz9TNIWI1m",
        "outputId": "8434927d-9217-4c07-c08d-4ec2f97ba4db"
      },
      "outputs": [
        {
          "name": "stdout",
          "output_type": "stream",
          "text": [
            "Time using apply() 0.3497791290283203 seconds\n"
          ]
        }
      ],
      "source": [
        "start_time_apply = time.time()\n",
        "poker_data[['R1', 'R2', 'R3', 'R4', 'R5']].apply(lambda x: sum(x),axis=1)\n",
        "end_time_apply = time.time()\n",
        "\n",
        "apply_time = end_time_apply - start_time_apply\n",
        "\n",
        "print(\"Time using apply() {} seconds\"  .format(apply_time))"
      ]
    },
    {
      "cell_type": "markdown",
      "metadata": {
        "id": "WO9COAX876tv"
      },
      "source": [
        "Comparing the time it takes to sum the ranks of all the cards in each hand using vectorization, the .iterrows() function, and the .apply() function, we can see that the vectorization method performs much better.\n",
        "\n",
        "We can also use another vectorization method to effectively iterate through the DataFrame which is using Numpy arrays to vectorize the DataFrame.\n",
        "\n",
        "The NumPy library, which defines itself as a “fundamental package for scientific computing in Python”, performs operations under the hood in optimized, pre-compiled C code. Similar to pandas working with arrays, NumPy operates on arrays called ndarrays. A major difference between Series and ndarrays is that ndarrays leave out many operations such as indexing, data type checking, etc. As a result, operations on NumPy arrays can be significantly faster than operations on pandas Series. NumPy arrays can be used in place of the pandas Series when the additional functionality offered by the pandas Series isn’t critical.\n",
        "\n",
        "For the problems we explore in this article, we could use NumPy ndarrays instead of the pandas series. The question at stake is whether this would be more efficient or not.\n",
        "\n",
        "Again, we will calculate the sum of the ranks of all the cards in each hand. We convert our rank arrays from pandas Series to NumPy arrays simply by using the .values method of pandas Series, which returns a pandas Series as a NumPy ndarray. As with vectorization on the series, passing the NumPy array directly into the function will lead pandas to apply the function to the entire vector.\n",
        "\n"
      ]
    },
    {
      "cell_type": "code",
      "execution_count": null,
      "metadata": {
        "colab": {
          "base_uri": "https://localhost:8080/"
        },
        "id": "wJaJBbiI5Q5M",
        "outputId": "27ca2ac9-9a87-4a3d-8b0d-2f1ec772a7d4"
      },
      "outputs": [
        {
          "name": "stdout",
          "output_type": "stream",
          "text": [
            "Time using NumPy vectorization: 0.001745462417602539 sec\n"
          ]
        }
      ],
      "source": [
        "start_time = time.time()\n",
        "\n",
        "poker_data[['R1', 'R2', 'R3', 'R4', 'R5']].values.sum(axis=1)\n",
        "\n",
        "print(\"Time using NumPy vectorization: {} sec\" .format(time.time() - start_time))"
      ]
    },
    {
      "cell_type": "code",
      "execution_count": null,
      "metadata": {
        "colab": {
          "base_uri": "https://localhost:8080/"
        },
        "id": "OVGS_FGb5eeV",
        "outputId": "e8635e7b-ef4a-42a5-b4b2-ddca0778cd56"
      },
      "outputs": [
        {
          "name": "stdout",
          "output_type": "stream",
          "text": [
            "Time using the  0.003729104995727539 seconds\n"
          ]
        }
      ],
      "source": [
        "start_time = time.time()\n",
        "poker_data[['R1', 'R2', 'R3', 'R4', 'R5']].sum(axis=1)\n",
        "print(\"Time using the pandas vectorization %s seconds\" % (time.time() - start_time))"
      ]
    },
    {
      "cell_type": "markdown",
      "metadata": {
        "id": "lXeC6MGF8MfY"
      },
      "source": [
        "### 3.4. Summary of best practices for looping through DataFrame\n",
        "* Using **.iterrows()** does not improve the speed of iterating through the DataFrame but it is more efficient.\n",
        "* The **.apply()** function performs faster when we want to iterate through all the rows of a pandas DataFrame, but is slower when we perform the same operation through a column.\n",
        "* Vectorizing over the pandas series achieves the overwhelming majority of optimization needs for everyday calculations. However, if speed is of the highest priority, we can call in reinforcements in the form of the NumPy Python library."
      ]
    },
    {
      "cell_type": "markdown",
      "metadata": {
        "id": "f0YfoiqVhtNR"
      },
      "source": [
        "## 4. Transforming Data Efficevly using .groupby()"
      ]
    },
    {
      "cell_type": "markdown",
      "metadata": {
        "id": "MMKF-rF08dl6"
      },
      "source": [
        "In this last section of the article, we will use how to use the .groupby() function effectively to group the entries of a DataFrame according to the values of a specific feature. The .groupby() method is applied to a DataFrame and groups it according to a feature. Then, we can apply some simple or more complicated functions on that grouped object. This is a very important tool for every data scientist working on tabular or structured data as it will help you to manipulate data easily and in a more effective way.\n",
        "\n"
      ]
    },
    {
      "cell_type": "markdown",
      "metadata": {
        "id": "2dRSQiWP8fpr"
      },
      "source": [
        "### 4.1. Common functions used with .groupby()\n",
        "One of the simplest methods to apply to an aggregated group is the **.count()**. In the example below we will apply this to the restaurant dataset. At first, we group the restaurant data according to whether the customer was a smoker or not. Then, we apply the **.count()** method. We obtain the count of smokers and non-smokers."
      ]
    },
    {
      "cell_type": "code",
      "execution_count": null,
      "metadata": {
        "colab": {
          "base_uri": "https://localhost:8080/"
        },
        "id": "Y5h57Glvhx6g",
        "outputId": "d1d0db2f-35f1-4d05-f61b-b936f33d5260"
      },
      "outputs": [
        {
          "name": "stdout",
          "output_type": "stream",
          "text": [
            "        total_bill  tip  sex  day  time  size\n",
            "smoker                                       \n",
            "No             151  151  151  151   151   151\n",
            "Yes             93   93   93   93    93    93\n"
          ]
        }
      ],
      "source": [
        "restaurant = pd.read_csv('restaurant_data.csv')\n",
        "\n",
        "restaurant_grouped = restaurant.groupby('smoker')\n",
        "print(restaurant_grouped.count())"
      ]
    },
    {
      "cell_type": "markdown",
      "metadata": {
        "id": "l1dVh3iW8tYA"
      },
      "source": [
        "It is no surprise that we get the same results for all the features, as the .count() method counts the number of occurrences of each group in each feature. As there are no missing values in our data, the results should be the same in all columns.\n",
        "\n",
        "After grouping the entries of the DataFrame according to the values of a specific feature, we can apply any kind of transformation we are interested in. Here, we are going to apply the z score, a normalization transformation, which is the distance between each value and the mean, divided by the standard deviation. This is a very useful transformation in statistics, often used with the z-test in standardized testing. To apply this transformation to the grouped object, we just need to call the .transform() method containing the lambda transformation we defined.\n",
        "\n",
        "This time, we will group according to the type of meal: was it a dinner or a lunch? As the z-score transformation is a group-related transformation, the resulting table is just the original table. For each element, we subtract the mean and divide it by the standard deviation of the group it belongs to. We can also see that numerical transformation are applied only to numerical features of the DataFrame.\n",
        "\n"
      ]
    },
    {
      "cell_type": "code",
      "execution_count": null,
      "metadata": {
        "colab": {
          "base_uri": "https://localhost:8080/",
          "height": 261
        },
        "id": "lMaz9VWLUM7D",
        "outputId": "9d9b45bf-90b0-463e-fa9e-280e80ba78d3"
      },
      "outputs": [
        {
          "name": "stderr",
          "output_type": "stream",
          "text": [
            "<ipython-input-71-15a62f25ceb6>:5: FutureWarning: Dropping invalid columns in DataFrameGroupBy.transform is deprecated. In a future version, a TypeError will be raised. Before calling .transform, select only columns which should be valid for the transforming function.\n",
            "  restaurant_transformed = restaurant_grouped.transform(zscore)\n"
          ]
        },
        {
          "data": {
            "text/html": [
              "\n",
              "  <div id=\"df-89495fc7-0b74-496a-973f-2b3c6c49594e\">\n",
              "    <div class=\"colab-df-container\">\n",
              "      <div>\n",
              "<style scoped>\n",
              "    .dataframe tbody tr th:only-of-type {\n",
              "        vertical-align: middle;\n",
              "    }\n",
              "\n",
              "    .dataframe tbody tr th {\n",
              "        vertical-align: top;\n",
              "    }\n",
              "\n",
              "    .dataframe thead th {\n",
              "        text-align: right;\n",
              "    }\n",
              "</style>\n",
              "<table border=\"1\" class=\"dataframe\">\n",
              "  <thead>\n",
              "    <tr style=\"text-align: right;\">\n",
              "      <th></th>\n",
              "      <th>total_bill</th>\n",
              "      <th>tip</th>\n",
              "      <th>size</th>\n",
              "    </tr>\n",
              "  </thead>\n",
              "  <tbody>\n",
              "    <tr>\n",
              "      <th>0</th>\n",
              "      <td>-0.416446</td>\n",
              "      <td>-1.457045</td>\n",
              "      <td>-0.692873</td>\n",
              "    </tr>\n",
              "    <tr>\n",
              "      <th>1</th>\n",
              "      <td>-1.143855</td>\n",
              "      <td>-1.004475</td>\n",
              "      <td>0.405737</td>\n",
              "    </tr>\n",
              "    <tr>\n",
              "      <th>2</th>\n",
              "      <td>0.023282</td>\n",
              "      <td>0.276645</td>\n",
              "      <td>0.405737</td>\n",
              "    </tr>\n",
              "    <tr>\n",
              "      <th>3</th>\n",
              "      <td>0.315339</td>\n",
              "      <td>0.144355</td>\n",
              "      <td>-0.692873</td>\n",
              "    </tr>\n",
              "    <tr>\n",
              "      <th>4</th>\n",
              "      <td>0.414880</td>\n",
              "      <td>0.353234</td>\n",
              "      <td>1.504347</td>\n",
              "    </tr>\n",
              "  </tbody>\n",
              "</table>\n",
              "</div>\n",
              "      <button class=\"colab-df-convert\" onclick=\"convertToInteractive('df-89495fc7-0b74-496a-973f-2b3c6c49594e')\"\n",
              "              title=\"Convert this dataframe to an interactive table.\"\n",
              "              style=\"display:none;\">\n",
              "        \n",
              "  <svg xmlns=\"http://www.w3.org/2000/svg\" height=\"24px\"viewBox=\"0 0 24 24\"\n",
              "       width=\"24px\">\n",
              "    <path d=\"M0 0h24v24H0V0z\" fill=\"none\"/>\n",
              "    <path d=\"M18.56 5.44l.94 2.06.94-2.06 2.06-.94-2.06-.94-.94-2.06-.94 2.06-2.06.94zm-11 1L8.5 8.5l.94-2.06 2.06-.94-2.06-.94L8.5 2.5l-.94 2.06-2.06.94zm10 10l.94 2.06.94-2.06 2.06-.94-2.06-.94-.94-2.06-.94 2.06-2.06.94z\"/><path d=\"M17.41 7.96l-1.37-1.37c-.4-.4-.92-.59-1.43-.59-.52 0-1.04.2-1.43.59L10.3 9.45l-7.72 7.72c-.78.78-.78 2.05 0 2.83L4 21.41c.39.39.9.59 1.41.59.51 0 1.02-.2 1.41-.59l7.78-7.78 2.81-2.81c.8-.78.8-2.07 0-2.86zM5.41 20L4 18.59l7.72-7.72 1.47 1.35L5.41 20z\"/>\n",
              "  </svg>\n",
              "      </button>\n",
              "      \n",
              "  <style>\n",
              "    .colab-df-container {\n",
              "      display:flex;\n",
              "      flex-wrap:wrap;\n",
              "      gap: 12px;\n",
              "    }\n",
              "\n",
              "    .colab-df-convert {\n",
              "      background-color: #E8F0FE;\n",
              "      border: none;\n",
              "      border-radius: 50%;\n",
              "      cursor: pointer;\n",
              "      display: none;\n",
              "      fill: #1967D2;\n",
              "      height: 32px;\n",
              "      padding: 0 0 0 0;\n",
              "      width: 32px;\n",
              "    }\n",
              "\n",
              "    .colab-df-convert:hover {\n",
              "      background-color: #E2EBFA;\n",
              "      box-shadow: 0px 1px 2px rgba(60, 64, 67, 0.3), 0px 1px 3px 1px rgba(60, 64, 67, 0.15);\n",
              "      fill: #174EA6;\n",
              "    }\n",
              "\n",
              "    [theme=dark] .colab-df-convert {\n",
              "      background-color: #3B4455;\n",
              "      fill: #D2E3FC;\n",
              "    }\n",
              "\n",
              "    [theme=dark] .colab-df-convert:hover {\n",
              "      background-color: #434B5C;\n",
              "      box-shadow: 0px 1px 3px 1px rgba(0, 0, 0, 0.15);\n",
              "      filter: drop-shadow(0px 1px 2px rgba(0, 0, 0, 0.3));\n",
              "      fill: #FFFFFF;\n",
              "    }\n",
              "  </style>\n",
              "\n",
              "      <script>\n",
              "        const buttonEl =\n",
              "          document.querySelector('#df-89495fc7-0b74-496a-973f-2b3c6c49594e button.colab-df-convert');\n",
              "        buttonEl.style.display =\n",
              "          google.colab.kernel.accessAllowed ? 'block' : 'none';\n",
              "\n",
              "        async function convertToInteractive(key) {\n",
              "          const element = document.querySelector('#df-89495fc7-0b74-496a-973f-2b3c6c49594e');\n",
              "          const dataTable =\n",
              "            await google.colab.kernel.invokeFunction('convertToInteractive',\n",
              "                                                     [key], {});\n",
              "          if (!dataTable) return;\n",
              "\n",
              "          const docLinkHtml = 'Like what you see? Visit the ' +\n",
              "            '<a target=\"_blank\" href=https://colab.research.google.com/notebooks/data_table.ipynb>data table notebook</a>'\n",
              "            + ' to learn more about interactive tables.';\n",
              "          element.innerHTML = '';\n",
              "          dataTable['output_type'] = 'display_data';\n",
              "          await google.colab.output.renderOutput(dataTable, element);\n",
              "          const docLink = document.createElement('div');\n",
              "          docLink.innerHTML = docLinkHtml;\n",
              "          element.appendChild(docLink);\n",
              "        }\n",
              "      </script>\n",
              "    </div>\n",
              "  </div>\n",
              "  "
            ],
            "text/plain": [
              "   total_bill       tip      size\n",
              "0   -0.416446 -1.457045 -0.692873\n",
              "1   -1.143855 -1.004475  0.405737\n",
              "2    0.023282  0.276645  0.405737\n",
              "3    0.315339  0.144355 -0.692873\n",
              "4    0.414880  0.353234  1.504347"
            ]
          },
          "execution_count": 71,
          "metadata": {},
          "output_type": "execute_result"
        }
      ],
      "source": [
        "zscore = lambda x: (x - x.mean() ) / x.std()\n",
        "\n",
        "restaurant_grouped = restaurant.groupby('time')\n",
        "\n",
        "restaurant_transformed = restaurant_grouped.transform(zscore)\n",
        "restaurant_transformed.head()"
      ]
    },
    {
      "cell_type": "markdown",
      "metadata": {
        "id": "U489pyXE8xkk"
      },
      "source": [
        "While the transform() method simplifies things a lot, is it actually more efficient than using native Python code? As we did before, we first group our data, this time according to sex. Then we apply the z-score transformation we applied before, measuring its efficiency. We omit the code for measuring the time of each operation here, as you are already familiar with this. We can see that with the use of the transform() function, we achieve a massive speed improvement. On top of that, we’re only using one line to perform the operation of interest.\n",
        "\n"
      ]
    },
    {
      "cell_type": "code",
      "execution_count": null,
      "metadata": {
        "colab": {
          "base_uri": "https://localhost:8080/"
        },
        "id": "vXOEHSrJ8qyv",
        "outputId": "425febc7-c565-444e-83d1-d9a0771eb9bd"
      },
      "outputs": [
        {
          "name": "stderr",
          "output_type": "stream",
          "text": [
            "<ipython-input-72-1b210222e6f6>:1: FutureWarning: Dropping invalid columns in DataFrameGroupBy.transform is deprecated. In a future version, a TypeError will be raised. Before calling .transform, select only columns which should be valid for the transforming function.\n",
            "  restaurant.groupby('sex').transform(zscore)\n",
            "/usr/local/lib/python3.8/dist-packages/pandas/core/series.py:1056: SettingWithCopyWarning: \n",
            "A value is trying to be set on a copy of a slice from a DataFrame\n",
            "\n",
            "See the caveats in the documentation: https://pandas.pydata.org/pandas-docs/stable/user_guide/indexing.html#returning-a-view-versus-a-copy\n",
            "  cacher_needs_updating = self._check_is_chained_assignment_possible()\n"
          ]
        }
      ],
      "source": [
        "restaurant.groupby('sex').transform(zscore)\n",
        "\n",
        "mean_female = restaurant.groupby('sex').mean()['total_bill']['Female']\n",
        "mean_male = restaurant.groupby('sex').mean()['total_bill']['Male']\n",
        "std_female = restaurant.groupby('sex').std()['total_bill']['Female']\n",
        "std_male = restaurant.groupby('sex').std()['total_bill']['Male']\n",
        "\n",
        "for i in range(len(restaurant)):\n",
        "  if restaurant.iloc[i][2] == 'Female':\n",
        "    restaurant.iloc[i][0] = (restaurant.iloc[i][0] - mean_female)/std_female\n",
        "  else:\n",
        "    restaurant.iloc[i][0] = (restaurant.iloc[i][0] - mean_male)/std_male"
      ]
    },
    {
      "cell_type": "markdown",
      "metadata": {
        "id": "-x_S5ALTlJE6"
      },
      "source": [
        "### 4.2. Missing value imputation using .groupby() & .transform()\n",
        "\n",
        "\n",
        "\n",
        "\n"
      ]
    },
    {
      "cell_type": "markdown",
      "metadata": {
        "id": "IfxsED_J85tu"
      },
      "source": [
        "Now that we have seen why and how to use the transform() function on a grouped pandas object, we will address a very specific task that is imputing missing value.\n",
        "\n",
        "Before we actually see how we can use the transform() function for missing value imputation, we will see how many missing values there are in our variable of interest in each of the groups. We can see below the number of data points in each of the “time” feature and they are 176+68 = 244.\n",
        "\n"
      ]
    },
    {
      "cell_type": "code",
      "execution_count": null,
      "metadata": {
        "id": "Oced-e3VtCF7"
      },
      "outputs": [],
      "source": [
        "prior_counts = restaurant.groupby('time')\n",
        "prior_counts['total_bill'].count()"
      ]
    },
    {
      "cell_type": "markdown",
      "metadata": {
        "id": "ToN8lXBA8_SP"
      },
      "source": [
        "Next, we will create a restaurant_nan dataset, in which the total bill of 10% random observations was set to NaN using the code below:\n",
        "\n"
      ]
    },
    {
      "cell_type": "code",
      "execution_count": null,
      "metadata": {
        "id": "UIMuoP8ao3fW"
      },
      "outputs": [],
      "source": [
        "import pandas as pd\n",
        "import numpy as np\n",
        "\n",
        "p = 0.1 #percentage missing data required\n",
        "\n",
        "mask = np.random.choice([np.nan,1], size=len(restaurant), p=[p,1-p])\n",
        "restaurant_nan = restaurant.copy()\n",
        "restaurant_nan['total_bill'] =  restaurant_nan['total_bill'] * mask"
      ]
    },
    {
      "cell_type": "markdown",
      "metadata": {
        "id": "75QUdExq9CCn"
      },
      "source": [
        "Now, let's print the number of data points in each of the “time” feature and we can see that they are now 155+62 = 217. Since the total data points we have are 244 then the missing data points are 24 which is equal to 10%.\n",
        "\n"
      ]
    },
    {
      "cell_type": "code",
      "execution_count": null,
      "metadata": {
        "colab": {
          "base_uri": "https://localhost:8080/"
        },
        "id": "9w8xOYgBEMAE",
        "outputId": "74ccf0b2-42ce-49f0-9614-38a0dcd94b78"
      },
      "outputs": [
        {
          "data": {
            "text/plain": [
              "time\n",
              "Dinner    176\n",
              "Lunch      68\n",
              "Name: total_bill, dtype: int64"
            ]
          },
          "execution_count": 84,
          "metadata": {},
          "output_type": "execute_result"
        }
      ],
      "source": [
        "prior_counts = restaurant.groupby('time')\n",
        "prior_counts['total_bill'].count()"
      ]
    },
    {
      "cell_type": "code",
      "execution_count": null,
      "metadata": {
        "colab": {
          "base_uri": "https://localhost:8080/"
        },
        "id": "Jn1AIBvglPXV",
        "outputId": "b13d48cc-41eb-4bd4-9b48-6750afc92b8c"
      },
      "outputs": [
        {
          "data": {
            "text/plain": [
              "time\n",
              "Dinner    161\n",
              "Lunch      61\n",
              "Name: total_bill, dtype: int64"
            ]
          },
          "execution_count": 85,
          "metadata": {},
          "output_type": "execute_result"
        }
      ],
      "source": [
        "missing_counts = restaurant_nan.groupby('time')\n",
        "missing_counts['total_bill'].count()"
      ]
    },
    {
      "cell_type": "code",
      "execution_count": null,
      "metadata": {
        "colab": {
          "base_uri": "https://localhost:8080/"
        },
        "id": "_N_uchjGK7sT",
        "outputId": "e28adaf6-b384-4051-a4db-31f75c57a596"
      },
      "outputs": [
        {
          "data": {
            "text/plain": [
              "0      21.100197\n",
              "1      10.340000\n",
              "2      21.010000\n",
              "3      23.680000\n",
              "4      21.100197\n",
              "         ...    \n",
              "239    29.030000\n",
              "240    27.180000\n",
              "241    22.670000\n",
              "242    17.820000\n",
              "243    18.780000\n",
              "Name: total_bill, Length: 244, dtype: float64"
            ]
          },
          "execution_count": 75,
          "metadata": {},
          "output_type": "execute_result"
        }
      ],
      "source": [
        "# Missing value imputation\n",
        "\n",
        "start_time = time.time()\n",
        "\n",
        "missing_trans = lambda x: x.fillna(x.mean())\n",
        "restaurant_nan_grouped = restaurant_nan.groupby('time')['total_bill']\n",
        "restaurant_nan_grouped.transform(missing_trans)\n",
        "print(\"Time using the pandas vectorization %s seconds\" % (time.time() - start_time))"
      ]
    },
    {
      "cell_type": "code",
      "execution_count": null,
      "metadata": {
        "colab": {
          "base_uri": "https://localhost:8080/"
        },
        "id": "nFSVFXSjp3le",
        "outputId": "d8f259fb-80c4-4552-e6b4-192c5b23c99d"
      },
      "outputs": [
        {
          "name": "stdout",
          "output_type": "stream",
          "text": [
            "Results from the above operation calculated in 0.10567951202392578 seconds\n"
          ]
        }
      ],
      "source": [
        "start_time = time.time()\n",
        "mean_din = restaurant_nan.loc[restaurant_nan.time =='Dinner']['total_bill'].mean()\n",
        "mean_lun = restaurant_nan.loc[restaurant_nan.time == 'Lunch']['total_bill'].mean()\n",
        "\n",
        "for row in range(len(restaurant_nan)):\n",
        "  if restaurant_nan.iloc[row]['time'] == 'Dinner':\n",
        "    restaurant_nan.loc[row, 'total_time'] = mean_din\n",
        "  else:\n",
        "    restaurant_nan.loc[row, 'total_time'] = mean_lun\n",
        "print(\"Results from the above operation calculated in %s seconds\" % (time.time() - start_time))"
      ]
    },
    {
      "cell_type": "markdown",
      "metadata": {
        "id": "O-csT5hc3sMh"
      },
      "source": [
        "### 4.3. Data filtration using the .groupby() & .filter()\n"
      ]
    },
    {
      "cell_type": "markdown",
      "metadata": {
        "id": "GqqstrqdsQdn"
      },
      "source": [
        "Now we will discuss how we can use the filter() function on a grouped pandas object. This allows us to include only a subset of those groups, based on some specific conditions.\n",
        "\n",
        "Often, after grouping the entries of a DataFrame according to a specific feature, we are interested in including only a subset of those groups, based on some conditions. Some examples of filtration conditions are the number of missing values, the mean of a specific feature, or the number of occurrences of the group in the dataset.\n",
        "\n",
        "We are interested in finding the mean amount of tips given, on the days when the mean amount paid to the waiter is more than 20 USD. The .filter() function accepts a lambda function that operates on a DataFrame of each of the groups. In this example, the lambda function selects “total_bill” and checks that the mean() is greater than 20. If that lambda function returns True, then the mean() of the tip is calculated. If we compare the total mean of the tips, we can see that there is a difference between the two values, meaning that the filtering was performed correctly.\n",
        "\n"
      ]
    },
    {
      "cell_type": "code",
      "execution_count": null,
      "metadata": {
        "colab": {
          "base_uri": "https://localhost:8080/"
        },
        "id": "akATTcRq3tRk",
        "outputId": "8ca8bfef-6ab4-414c-d443-088a8fbbcce1"
      },
      "outputs": [
        {
          "name": "stdout",
          "output_type": "stream",
          "text": [
            "Time using filter() 0.004920244216918945 seconds\n"
          ]
        }
      ],
      "source": [
        "restaurant_grouped = restaurant.groupby('day')\n",
        "filter_trans = lambda x : x['total_bill'].mean() > 20\n",
        "restaurant_filtered = restaurant_grouped.filter(filter_trans)"
      ]
    },
    {
      "cell_type": "code",
      "execution_count": null,
      "metadata": {
        "colab": {
          "base_uri": "https://localhost:8080/"
        },
        "id": "lYRX57FQ3wxL",
        "outputId": "2c688c39-bb86-4544-f086-b48e0300397a"
      },
      "outputs": [
        {
          "name": "stdout",
          "output_type": "stream",
          "text": [
            "3.115276073619632\n"
          ]
        }
      ],
      "source": [
        "print(restaurant_filtered['tip'].mean())"
      ]
    },
    {
      "cell_type": "code",
      "execution_count": null,
      "metadata": {
        "colab": {
          "base_uri": "https://localhost:8080/"
        },
        "id": "E0L062fx3zNS",
        "outputId": "af024701-4c02-4a1e-e98f-5d60582c282e"
      },
      "outputs": [
        {
          "name": "stdout",
          "output_type": "stream",
          "text": [
            "2.99827868852459\n"
          ]
        }
      ],
      "source": [
        "print(restaurant['tip'].mean())"
      ]
    },
    {
      "cell_type": "markdown",
      "metadata": {
        "id": "QRT84txVsWBp"
      },
      "source": [
        "If we attempt to perform this operation without using groupby(), we end up with this inefficient code. At first, we use a list comprehension to extract the entries of the DataFrame that refer to days that have a mean meal greater than $20 and then use a for loop to append them into a list and calculate the mean. It might seem very intuitive, but as we see, it’s also very inefficient.\n",
        "\n"
      ]
    },
    {
      "cell_type": "code",
      "execution_count": null,
      "metadata": {
        "id": "8S963vsB32nS"
      },
      "outputs": [],
      "source": [
        "t=[restaurant.loc[restaurant['day'] == i]['tip'] for i in restaurant['day'].unique()\n",
        "  if restaurant.loc[restaurant['day'] == i]['total_bill'].mean()>20]\n",
        "restaurant_filtered = t[0]\n",
        "\n",
        "for j in t[1:]:\n",
        "  restaurant_filtered=restaurant_filtered.append(j,ignore_index=True)"
      ]
    },
    {
      "cell_type": "code",
      "execution_count": null,
      "metadata": {
        "colab": {
          "base_uri": "https://localhost:8080/"
        },
        "id": "mvuJlcTb38JT",
        "outputId": "6ce25ec5-41ac-465f-e62e-a68434db8d82"
      },
      "outputs": [
        {
          "name": "stdout",
          "output_type": "stream",
          "text": [
            "3.1152760736196323\n"
          ]
        }
      ],
      "source": [
        "print(restaurant_filtered.mean())"
      ]
    },
    {
      "cell_type": "markdown",
      "metadata": {
        "id": "i4Kyru7rsY5o"
      },
      "source": [
        "# 5. Summary of Best Practices\n",
        "* Selecting rows and columns is faster using the **.iloc[]** function. So it is better to use unless it is easier or more convenient to use .loc[] and the speed is not a priority or you are just doing it once.\n",
        "* Using the built-in **replace()** function is much faster than just using conventional methods.\n",
        "* Replacing multiple values using python dictionaries is faster than using lists.\n",
        "* Using **.iterrows()** does not improve the speed of iterating through the DataFrame but it is more efficient.\n",
        "* The **.apply()** function performs faster when we want to iterate through all the rows of a pandas DataFrame, but is slower when we perform the same operation through a column.\n",
        "* Vectorizing over the pandas series achieves the overwhelming majority of optimization needs for everyday calculations. However, if speed is of the highest priority, we can call in reinforcements in the form of the NumPy Python library.\n",
        "* Using **.groupby()** to group it according to a certain feature and then using other functions to apply it to the data is much faster than using the conventional coding method.\n"
      ]
    }
  ],
  "metadata": {
    "colab": {
      "authorship_tag": "ABX9TyMJJw+k5hjY8nDaKiFPp/4A",
      "include_colab_link": true,
      "provenance": []
    },
    "gpuClass": "standard",
    "kernelspec": {
      "display_name": "Python 3",
      "name": "python3"
    },
    "language_info": {
      "name": "python"
    }
  },
  "nbformat": 4,
  "nbformat_minor": 0
}
