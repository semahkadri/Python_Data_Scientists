{
  "cells": [
    {
      "cell_type": "markdown",
      "metadata": {
        "id": "Zr3L0MDvNBUc"
      },
      "source": [
        "# Unleash Lightning Speed: Turbocharge Your Pandas Code!"
      ]
    },
    {
      "cell_type": "markdown",
      "metadata": {
        "id": "e5MbQd8SNBUg"
      },
      "source": [
        "Step into the realm of Pandas sorcery and unlock unparalleled speed for your data manipulation and analysis. Pandas, a beloved Python library, boasts power and versatility, but sometimes its performance can hinder you when grappling with colossal datasets. Fear not! We have a magical trick up our sleeves that can skyrocket your Pandas code's efficiency, leaving you awestruck as it performs up to 1000 times faster!\n",
        "\n",
        "Whether you're a fledgling explorer or a seasoned Pandas master, this enchanting article will bestow upon you invaluable insights and mystical tips to accelerate your code like never before. Prepare to witness the wonders of Pandas as it sprints through your tasks with breathtaking velocity. If you seek to harness the true potential of your Pandas code, the secrets await you! Venture forth and embrace the magic of speed!"
      ]
    },
    {
      "cell_type": "code",
      "execution_count": null,
      "metadata": {
        "id": "fCRVIA8qNBUi"
      },
      "outputs": [],
      "source": [
        "Table of Content:\n",
        "Create Dataset & Problem Statment\n",
        "Level 1: Loops\n",
        "Level 2: Apply Function\n",
        "Level 3: Vectorization\n",
        "Measuring the Difference"
      ]
    },
    {
      "cell_type": "code",
      "execution_count": null,
      "metadata": {
        "id": "JmhQZWVsNBUl"
      },
      "outputs": [],
      "source": [
        "import pandas as pd\n",
        "import numpy as np"
      ]
    },
    {
      "cell_type": "markdown",
      "metadata": {
        "id": "yPa83A8wNBUm"
      },
      "source": [
        "# 1. Create Dataset & Problem Statment \n",
        "First, let's create the data we will use throughout this article and compare different methods. The data we will make will have different ages, time in bed and percentage of sleeping, the favorite food, and the least favorite food. \n",
        "Let's build a function to get the data given the size:# create Dataset"
      ]
    },
    {
      "cell_type": "code",
      "execution_count": null,
      "metadata": {
        "id": "eK3UfJtzNBUn"
      },
      "outputs": [],
      "source": [
        "def get_data(size= 10000):\n",
        "    df = pd.DataFrame()\n",
        "    size = 10000\n",
        "    df['age'] = np.random.randint(0,100,size)\n",
        "    df['time_in_bed'] = np.random.randint(0,9,size)\n",
        "    df['pct_sleeping'] = np.random.randint(size)\n",
        "    df['favorite_food'] = np.random.choice(['pizza','ice-cream','burger','rice'], size)\n",
        "    df['hate_food'] = np.random.choice(['milk','vegetables','eggs'])\n",
        "    return df"
      ]
    },
    {
      "cell_type": "code",
      "execution_count": null,
      "metadata": {
        "id": "ZrEgXr-wNBUp",
        "outputId": "1c1a3e5d-561a-4628-9944-3997c0397d4d"
      },
      "outputs": [
        {
          "data": {
            "text/html": [
              "<div>\n",
              "<style scoped>\n",
              "    .dataframe tbody tr th:only-of-type {\n",
              "        vertical-align: middle;\n",
              "    }\n",
              "\n",
              "    .dataframe tbody tr th {\n",
              "        vertical-align: top;\n",
              "    }\n",
              "\n",
              "    .dataframe thead th {\n",
              "        text-align: right;\n",
              "    }\n",
              "</style>\n",
              "<table border=\"1\" class=\"dataframe\">\n",
              "  <thead>\n",
              "    <tr style=\"text-align: right;\">\n",
              "      <th></th>\n",
              "      <th>age</th>\n",
              "      <th>time_in_bed</th>\n",
              "      <th>pct_sleeping</th>\n",
              "      <th>favorite_food</th>\n",
              "      <th>hate_food</th>\n",
              "    </tr>\n",
              "  </thead>\n",
              "  <tbody>\n",
              "    <tr>\n",
              "      <th>0</th>\n",
              "      <td>39</td>\n",
              "      <td>2</td>\n",
              "      <td>2114</td>\n",
              "      <td>ice-cream</td>\n",
              "      <td>eggs</td>\n",
              "    </tr>\n",
              "    <tr>\n",
              "      <th>1</th>\n",
              "      <td>92</td>\n",
              "      <td>1</td>\n",
              "      <td>2114</td>\n",
              "      <td>pizza</td>\n",
              "      <td>eggs</td>\n",
              "    </tr>\n",
              "    <tr>\n",
              "      <th>2</th>\n",
              "      <td>59</td>\n",
              "      <td>7</td>\n",
              "      <td>2114</td>\n",
              "      <td>ice-cream</td>\n",
              "      <td>eggs</td>\n",
              "    </tr>\n",
              "    <tr>\n",
              "      <th>3</th>\n",
              "      <td>26</td>\n",
              "      <td>3</td>\n",
              "      <td>2114</td>\n",
              "      <td>burger</td>\n",
              "      <td>eggs</td>\n",
              "    </tr>\n",
              "    <tr>\n",
              "      <th>4</th>\n",
              "      <td>14</td>\n",
              "      <td>3</td>\n",
              "      <td>2114</td>\n",
              "      <td>ice-cream</td>\n",
              "      <td>eggs</td>\n",
              "    </tr>\n",
              "  </tbody>\n",
              "</table>\n",
              "</div>"
            ],
            "text/plain": [
              "   age  time_in_bed  pct_sleeping favorite_food hate_food\n",
              "0   39            2          2114     ice-cream      eggs\n",
              "1   92            1          2114         pizza      eggs\n",
              "2   59            7          2114     ice-cream      eggs\n",
              "3   26            3          2114        burger      eggs\n",
              "4   14            3          2114     ice-cream      eggs"
            ]
          },
          "execution_count": 36,
          "metadata": {},
          "output_type": "execute_result"
        }
      ],
      "source": [
        "df = get_data()\n",
        "df.head()"
      ]
    },
    {
      "cell_type": "markdown",
      "metadata": {
        "id": "kVJDig7CNBUr"
      },
      "source": [
        "Reward calculation:\n",
        "* If they were in bed for more than 5 hours and they were sleeping more than 50% we will give their favourite food.\n",
        "* Otherwise we give them their hate food\n",
        "* If they are over 90 years old give their favorite food regardless\n",
        "\n",
        "This can be represented using the following equation"
      ]
    },
    {
      "cell_type": "code",
      "execution_count": null,
      "metadata": {
        "id": "VPGpFG4iNBUs"
      },
      "outputs": [],
      "source": [
        "def reward_cal(row):\n",
        "    if row['age'] >=90:\n",
        "        return row['favorite_food'] \n",
        "    if (row['time_in_bed'] > 5) & (row['pct_sleeping']>0.5):\n",
        "        return row['favorite_food']\n",
        "    return row['hate_food']"
      ]
    },
    {
      "cell_type": "markdown",
      "metadata": {
        "id": "kfnQjHp1NBUt"
      },
      "source": [
        "## Level 1: Loops"
      ]
    },
    {
      "cell_type": "markdown",
      "metadata": {
        "id": "GvJ_eTu4NBUu"
      },
      "source": [
        "The first and straightforward approach is to use for loops to iterate over each row of the data frame. The code below"
      ]
    },
    {
      "cell_type": "code",
      "execution_count": null,
      "metadata": {
        "id": "XWv3MZGoNBUu"
      },
      "outputs": [],
      "source": [
        "df = get_data()"
      ]
    },
    {
      "cell_type": "code",
      "execution_count": null,
      "metadata": {
        "id": "yRnyMEnSNBUv",
        "outputId": "11337aac-de38-4d05-b8f4-5c0a3ece60f7"
      },
      "outputs": [
        {
          "name": "stdout",
          "output_type": "stream",
          "text": [
            "15.8 s ± 1.61 s per loop (mean ± std. dev. of 7 runs, 1 loop each)\n"
          ]
        }
      ],
      "source": [
        "%%timeit\n",
        "\n",
        "for index, row in df.iterrows():\n",
        "   df.loc[index,'reward'] = reward_cal(row)"
      ]
    },
    {
      "cell_type": "markdown",
      "metadata": {
        "id": "IyXhpDXRNBUw"
      },
      "source": [
        "As we can see the computation time used to iterate through every row of the data frame is 15.8 s. Given that the data has only 10000 rows which are considered small. So if the data have millions of rows so it will take hours to do only one task. Therefore this is not the most efficient way to iterate through a data frame. So let's discuss the second method which will improve the time complexity."
      ]
    },
    {
      "cell_type": "markdown",
      "metadata": {
        "id": "ZnlAfHz6NBUx"
      },
      "source": [
        "## Level 2: Apply"
      ]
    },
    {
      "cell_type": "markdown",
      "metadata": {
        "id": "V73_y_JANBUy"
      },
      "source": [
        "The .apply() method in pandas is used to apply a function to each element in a pandas dataframe. It can be used to apply a custom function to each element in a specific column or to apply a function along either axis (row-wise or column-wise) of the dataframe. Let's use it to apply the reward calculation function to each row of the data frame and then calculate the computational time:"
      ]
    },
    {
      "cell_type": "code",
      "execution_count": null,
      "metadata": {
        "id": "zSe7u6rnNBUy"
      },
      "outputs": [],
      "source": [
        "df = get_data()"
      ]
    },
    {
      "cell_type": "code",
      "execution_count": null,
      "metadata": {
        "id": "MDJDpDSuNBUz",
        "outputId": "3313ea0e-3875-4850-984e-38b16e96fe96"
      },
      "outputs": [
        {
          "name": "stdout",
          "output_type": "stream",
          "text": [
            "535 ms ± 38.7 ms per loop (mean ± std. dev. of 7 runs, 1 loop each)\n"
          ]
        }
      ],
      "source": [
        "%%timeit\n",
        "df['reward'] = df.apply(reward_cal, axis = 1)"
      ]
    },
    {
      "cell_type": "markdown",
      "metadata": {
        "id": "5BHqk2-JNBUz"
      },
      "source": [
        "The average time to apply the function to the 10000 rows of the data frame is only 535 ms which is 0.535 seconds. This is around 15 times faster than using the loops. However, we are still not done. We can still improve the speed and make it 1000 times faster. Let's see how!"
      ]
    },
    {
      "cell_type": "markdown",
      "metadata": {
        "id": "6KNNOQxnNBU0"
      },
      "source": [
        "## Level 3: Vectorized "
      ]
    },
    {
      "cell_type": "markdown",
      "metadata": {
        "id": "fARqNQQwNBU0"
      },
      "source": [
        "Vectorization in pandas refers to the process of applying operations to entire arrays or sequences of data, as opposed to applying them to individual elements one by one. This is done for performance reasons, as vectorized operations are usually much faster than non-vectorized operations, especially in large datasets.\n",
        "\n",
        "Let's apply this to the data using the conditions stated above:"
      ]
    },
    {
      "cell_type": "code",
      "execution_count": null,
      "metadata": {
        "id": "KU-2MCGQNBU1"
      },
      "outputs": [],
      "source": [
        "df = get_data()\n"
      ]
    },
    {
      "cell_type": "code",
      "execution_count": null,
      "metadata": {
        "id": "aoWodteHNBU1",
        "outputId": "e4e61ca6-49e5-4dd2-e230-5f6ac7ad77b8"
      },
      "outputs": [
        {
          "name": "stdout",
          "output_type": "stream",
          "text": [
            "5.8 ms ± 831 µs per loop (mean ± std. dev. of 7 runs, 100 loops each)\n"
          ]
        }
      ],
      "source": [
        "%%timeit\n",
        "\n",
        "df['reward'] = df['hate_food']\n",
        "df.loc[((df['pct_sleeping']>0.5) &(df['time_in_bed']>5))| (df['age']>90), 'reward'] = df['favorite_food']\n"
      ]
    },
    {
      "cell_type": "markdown",
      "metadata": {
        "id": "tawGLcpuNBU2"
      },
      "source": [
        "We can see now a tremendous decrease in the computation time compared to the previous two methods. The computation time has at least decreased by 1000. Let's have a look at the differences in a bar plot."
      ]
    },
    {
      "cell_type": "markdown",
      "metadata": {
        "id": "Lb-T8mcRNBU2"
      },
      "source": [
        "## Plot differences\n",
        "\n"
      ]
    },
    {
      "cell_type": "markdown",
      "metadata": {
        "id": "8O00vigtNBU3"
      },
      "source": [
        "Finally to have a better intuition of the difference between these different three methods. We will plot a bar plot diagram using the code below:"
      ]
    },
    {
      "cell_type": "code",
      "execution_count": null,
      "metadata": {
        "id": "0p40CWMbNBU3"
      },
      "outputs": [],
      "source": [
        "results = pd.DataFrame(\n",
        "    [\n",
        "        [\"Loop\", 15800],\n",
        "        [\"apply\", 535],\n",
        "        ['vectorized', 5.8]\n",
        "        \n",
        "    ],\n",
        "    columns = ['method', 'run_time']\n",
        "\n",
        ")"
      ]
    },
    {
      "cell_type": "code",
      "execution_count": null,
      "metadata": {
        "id": "3FTQJc7oNBU4",
        "outputId": "607fe70f-dc20-4b3a-b0da-58e32b3640b7"
      },
      "outputs": [
        {
          "data": {
            "text/plain": [
              "<AxesSubplot:xlabel='method'>"
            ]
          },
          "execution_count": 31,
          "metadata": {},
          "output_type": "execute_result"
        },
        {
          "data": {
            "image/png": "[encoded data removed]",
            "text/plain": [
              "<Figure size 432x288 with 1 Axes>"
            ]
          },
          "metadata": {
            "needs_background": "light"
          },
          "output_type": "display_data"
        }
      ],
      "source": [
        "results.set_index('method')['run_time'].plot(kind='bar')"
      ]
    },
    {
      "cell_type": "markdown",
      "metadata": {
        "id": "XwuNEJ00NBU4"
      },
      "source": [
        "Looking at the bar plot we can get a better intuition of the huge difference between the different computational times of the different methods used in this article."
      ]
    }
  ],
  "metadata": {
    "colab": {
      "include_colab_link": true,
      "provenance": []
    },
    "kernelspec": {
      "display_name": "Python 3",
      "language": "python",
      "name": "python3"
    },
    "language_info": {
      "codemirror_mode": {
        "name": "ipython",
        "version": 3
      },
      "file_extension": ".py",
      "mimetype": "text/x-python",
      "name": "python",
      "nbconvert_exporter": "python",
      "pygments_lexer": "ipython3",
      "version": "3.7.9"
    }
  },
  "nbformat": 4,
  "nbformat_minor": 0
}
